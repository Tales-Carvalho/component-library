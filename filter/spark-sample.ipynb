{
 "cells": [
  {
   "cell_type": "markdown",
   "id": "suburban-detection",
   "metadata": {
    "papermill": {
     "duration": 0.005988,
     "end_time": "2021-03-17T17:21:58.858976",
     "exception": false,
     "start_time": "2021-03-17T17:21:58.852988",
     "status": "completed"
    },
    "tags": []
   },
   "source": [
    "# Samples from a parquet source using ApacheSpark"
   ]
  },
  {
   "cell_type": "code",
   "execution_count": null,
   "id": "polished-termination",
   "metadata": {
    "papermill": {
     "duration": 657.616954,
     "end_time": "2021-03-17T17:32:56.483302",
     "exception": false,
     "start_time": "2021-03-17T17:21:58.866348",
     "status": "completed"
    },
    "tags": []
   },
   "outputs": [],
   "source": [
    "!pip3 install pyspark==3.1.1"
   ]
  },
  {
   "cell_type": "code",
   "execution_count": null,
   "id": "dynamic-adjustment",
   "metadata": {
    "papermill": {
     "duration": 0.011285,
     "end_time": "2021-03-17T17:32:56.503643",
     "exception": false,
     "start_time": "2021-03-17T17:32:56.492358",
     "status": "completed"
    },
    "tags": []
   },
   "outputs": [],
   "source": [
    "# @param data_dir temporal data storage for local execution\n",
    "# @param data_parquet path and parquet file name (default: data.parquet)\n",
    "# @param data_parquet_target path and parquet file name (default: data_sample.parquet)\n",
    "# @param master url of master (default: local mode)\n",
    "# @param sampling_rate (default: 1%)\n",
    "# @param sampling_seed (default: 42)"
   ]
  },
  {
   "cell_type": "code",
   "execution_count": null,
   "id": "manual-indication",
   "metadata": {
    "papermill": {
     "duration": 0.143301,
     "end_time": "2021-03-17T17:32:56.652531",
     "exception": false,
     "start_time": "2021-03-17T17:32:56.509230",
     "status": "completed"
    },
    "tags": []
   },
   "outputs": [],
   "source": [
    "from pyspark import SparkContext, SparkConf\n",
    "from pyspark.sql import SparkSession\n",
    "import os"
   ]
  },
  {
   "cell_type": "code",
   "execution_count": null,
   "id": "chinese-north",
   "metadata": {
    "papermill": {
     "duration": 0.020324,
     "end_time": "2021-03-17T17:32:56.680559",
     "exception": false,
     "start_time": "2021-03-17T17:32:56.660235",
     "status": "completed"
    },
    "tags": []
   },
   "outputs": [],
   "source": [
    "data_parquet = os.environ.get('data_parquet', 'data.parquet')\n",
    "data_parquet_target = os.environ.get('data_parquet_target', 'data_sample.parquet')\n",
    "master = os.environ.get('master', \"local[*]\")\n",
    "data_dir = os.environ.get('data_dir', '../../data/')\n",
    "sampling_rate = float(os.environ.get('sampling_rate', 0.1))\n",
    "sampling_seed = int(os.environ.get('sampling_rate', 42))"
   ]
  },
  {
   "cell_type": "code",
   "execution_count": null,
   "id": "sensitive-court",
   "metadata": {
    "papermill": {
     "duration": 3.182534,
     "end_time": "2021-03-17T17:32:59.874722",
     "exception": false,
     "start_time": "2021-03-17T17:32:56.692188",
     "status": "completed"
    },
    "tags": []
   },
   "outputs": [],
   "source": [
    "sc = SparkContext.getOrCreate(SparkConf().setMaster(master))\n",
    "spark = SparkSession.builder.getOrCreate()"
   ]
  },
  {
   "cell_type": "code",
   "execution_count": null,
   "id": "later-penny",
   "metadata": {
    "papermill": {
     "duration": 3.280979,
     "end_time": "2021-03-17T17:33:03.164109",
     "exception": false,
     "start_time": "2021-03-17T17:32:59.883130",
     "status": "completed"
    },
    "tags": []
   },
   "outputs": [],
   "source": [
    "df = spark.read.parquet(data_dir + data_parquet)"
   ]
  },
  {
   "cell_type": "code",
   "execution_count": null,
   "id": "annoying-spectrum",
   "metadata": {
    "papermill": {
     "duration": 0.040153,
     "end_time": "2021-03-17T17:33:03.215198",
     "exception": false,
     "start_time": "2021-03-17T17:33:03.175045",
     "status": "completed"
    },
    "tags": []
   },
   "outputs": [],
   "source": [
    "df = df.sample(sampling_rate,sampling_seed)"
   ]
  },
  {
   "cell_type": "code",
   "execution_count": null,
   "id": "every-drink",
   "metadata": {
    "papermill": {
     "duration": 25.659149,
     "end_time": "2021-03-17T17:33:28.879666",
     "exception": false,
     "start_time": "2021-03-17T17:33:03.220517",
     "status": "completed"
    },
    "tags": []
   },
   "outputs": [],
   "source": [
    "df.write.parquet(data_dir + data_parquet_target)"
   ]
  }
 ],
 "metadata": {
  "kernelspec": {
   "display_name": "Python 3",
   "language": "python",
   "name": "python3"
  },
  "language_info": {
   "codemirror_mode": {
    "name": "ipython",
    "version": 3
   },
   "file_extension": ".py",
   "mimetype": "text/x-python",
   "name": "python",
   "nbconvert_exporter": "python",
   "pygments_lexer": "ipython3",
   "version": "3.8.6"
  },
  "papermill": {
   "default_parameters": {},
   "duration": 691.045497,
   "end_time": "2021-03-17T17:33:29.192315",
   "environment_variables": {},
   "exception": null,
   "input_path": "/home/jovyan/work/examples/pipelines/pairs/component-library/filter/spark-sample.ipynb",
   "output_path": "/home/jovyan/work/examples/pipelines/pairs/component-library/filter/spark-sample.ipynb",
   "parameters": {},
   "start_time": "2021-03-17T17:21:58.146818",
   "version": "2.3.3"
  }
 },
 "nbformat": 4,
 "nbformat_minor": 5
}
