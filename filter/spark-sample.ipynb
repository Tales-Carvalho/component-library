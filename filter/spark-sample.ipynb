{
 "cells": [
  {
   "cell_type": "markdown",
   "id": "likely-coverage",
   "metadata": {
    "papermill": {
     "duration": 0.005988,
     "end_time": "2021-03-17T17:21:58.858976",
     "exception": false,
     "start_time": "2021-03-17T17:21:58.852988",
     "status": "completed"
    },
    "tags": []
   },
   "source": [
    "# Samples from a parquet source using ApacheSpark"
   ]
  },
  {
   "cell_type": "code",
   "execution_count": 1,
   "id": "piano-coral",
   "metadata": {
    "execution": {
     "iopub.execute_input": "2021-03-17T17:21:58.882336Z",
     "iopub.status.busy": "2021-03-17T17:21:58.881780Z",
     "iopub.status.idle": "2021-03-17T17:32:56.482599Z",
     "shell.execute_reply": "2021-03-17T17:32:56.483050Z"
    },
    "papermill": {
     "duration": 657.616954,
     "end_time": "2021-03-17T17:32:56.483302",
     "exception": false,
     "start_time": "2021-03-17T17:21:58.866348",
     "status": "completed"
    },
    "tags": []
   },
   "outputs": [
    {
     "name": "stdout",
     "output_type": "stream",
     "text": [
      "Requirement already satisfied: pyspark==3.1.1 in /opt/conda/lib/python3.8/site-packages (3.1.1)\r\n",
      "Requirement already satisfied: py4j==0.10.9 in /opt/conda/lib/python3.8/site-packages (from pyspark==3.1.1) (0.10.9)\r\n"
     ]
    }
   ],
   "source": [
    "!pip3 install pyspark==3.1.1"
   ]
  },
  {
   "cell_type": "code",
   "execution_count": 2,
   "id": "sufficient-chemistry",
   "metadata": {
    "execution": {
     "iopub.execute_input": "2021-03-17T17:32:56.502116Z",
     "iopub.status.busy": "2021-03-17T17:32:56.501647Z",
     "iopub.status.idle": "2021-03-17T17:32:56.503531Z",
     "shell.execute_reply": "2021-03-17T17:32:56.503152Z"
    },
    "papermill": {
     "duration": 0.011285,
     "end_time": "2021-03-17T17:32:56.503643",
     "exception": false,
     "start_time": "2021-03-17T17:32:56.492358",
     "status": "completed"
    },
    "tags": []
   },
   "outputs": [],
   "source": [
    "# @param data_dir temporal data storage for local execution\n",
    "# @param data_parquet path and parquet file name (default: data.parquet)\n",
    "# @param data_parquet_target path and parquet file name (default: data_sample.parquet)\n",
    "# @param master url of master (default: local mode)\n",
    "# @param sampling_rate (default: 1%)\n",
    "# @param sampling_seed (default: 42)"
   ]
  },
  {
   "cell_type": "code",
   "execution_count": 3,
   "id": "racial-botswana",
   "metadata": {
    "execution": {
     "iopub.execute_input": "2021-03-17T17:32:56.517767Z",
     "iopub.status.busy": "2021-03-17T17:32:56.517309Z",
     "iopub.status.idle": "2021-03-17T17:32:56.651847Z",
     "shell.execute_reply": "2021-03-17T17:32:56.652376Z"
    },
    "papermill": {
     "duration": 0.143301,
     "end_time": "2021-03-17T17:32:56.652531",
     "exception": false,
     "start_time": "2021-03-17T17:32:56.509230",
     "status": "completed"
    },
    "tags": []
   },
   "outputs": [],
   "source": [
    "from pyspark import SparkContext, SparkConf\n",
    "from pyspark.sql import SparkSession\n",
    "import os"
   ]
  },
  {
   "cell_type": "code",
   "execution_count": 4,
   "id": "right-suffering",
   "metadata": {
    "execution": {
     "iopub.execute_input": "2021-03-17T17:32:56.671674Z",
     "iopub.status.busy": "2021-03-17T17:32:56.670975Z",
     "iopub.status.idle": "2021-03-17T17:32:56.679856Z",
     "shell.execute_reply": "2021-03-17T17:32:56.680362Z"
    },
    "papermill": {
     "duration": 0.020324,
     "end_time": "2021-03-17T17:32:56.680559",
     "exception": false,
     "start_time": "2021-03-17T17:32:56.660235",
     "status": "completed"
    },
    "tags": []
   },
   "outputs": [],
   "source": [
    "data_parquet = os.environ.get('data_parquet', 'data.parquet')\n",
    "data_parquet_target = os.environ.get('data_parquet_target', 'data_sample.parquet')\n",
    "master = os.environ.get('master', \"local[*]\")\n",
    "data_dir = os.environ.get('data_dir', '../../data/')\n",
    "sampling_rate = float(os.environ.get('sampling_rate', 0.1))\n",
    "sampling_seed = int(os.environ.get('sampling_rate', 42))"
   ]
  },
  {
   "cell_type": "code",
   "execution_count": 5,
   "id": "toxic-synthesis",
   "metadata": {
    "execution": {
     "iopub.execute_input": "2021-03-17T17:32:56.710740Z",
     "iopub.status.busy": "2021-03-17T17:32:56.710029Z",
     "iopub.status.idle": "2021-03-17T17:32:59.874534Z",
     "shell.execute_reply": "2021-03-17T17:32:59.873515Z"
    },
    "papermill": {
     "duration": 3.182534,
     "end_time": "2021-03-17T17:32:59.874722",
     "exception": false,
     "start_time": "2021-03-17T17:32:56.692188",
     "status": "completed"
    },
    "tags": []
   },
   "outputs": [],
   "source": [
    "sc = SparkContext.getOrCreate(SparkConf().setMaster(master))\n",
    "spark = SparkSession.builder.getOrCreate()"
   ]
  },
  {
   "cell_type": "code",
   "execution_count": 6,
   "id": "friendly-tribute",
   "metadata": {
    "execution": {
     "iopub.execute_input": "2021-03-17T17:32:59.894065Z",
     "iopub.status.busy": "2021-03-17T17:32:59.893537Z",
     "iopub.status.idle": "2021-03-17T17:33:03.163947Z",
     "shell.execute_reply": "2021-03-17T17:33:03.163357Z"
    },
    "papermill": {
     "duration": 3.280979,
     "end_time": "2021-03-17T17:33:03.164109",
     "exception": false,
     "start_time": "2021-03-17T17:32:59.883130",
     "status": "completed"
    },
    "tags": []
   },
   "outputs": [],
   "source": [
    "df = spark.read.parquet(data_dir + data_parquet)"
   ]
  },
  {
   "cell_type": "code",
   "execution_count": 7,
   "id": "orange-matter",
   "metadata": {
    "execution": {
     "iopub.execute_input": "2021-03-17T17:33:03.188457Z",
     "iopub.status.busy": "2021-03-17T17:33:03.187689Z",
     "iopub.status.idle": "2021-03-17T17:33:03.214685Z",
     "shell.execute_reply": "2021-03-17T17:33:03.215052Z"
    },
    "papermill": {
     "duration": 0.040153,
     "end_time": "2021-03-17T17:33:03.215198",
     "exception": false,
     "start_time": "2021-03-17T17:33:03.175045",
     "status": "completed"
    },
    "tags": []
   },
   "outputs": [],
   "source": [
    "df = df.sample(sampling_rate,sampling_seed)"
   ]
  },
  {
   "cell_type": "code",
   "execution_count": 8,
   "id": "exceptional-intervention",
   "metadata": {
    "execution": {
     "iopub.execute_input": "2021-03-17T17:33:03.229325Z",
     "iopub.status.busy": "2021-03-17T17:33:03.228845Z",
     "iopub.status.idle": "2021-03-17T17:33:28.878957Z",
     "shell.execute_reply": "2021-03-17T17:33:28.879488Z"
    },
    "papermill": {
     "duration": 25.659149,
     "end_time": "2021-03-17T17:33:28.879666",
     "exception": false,
     "start_time": "2021-03-17T17:33:03.220517",
     "status": "completed"
    },
    "tags": []
   },
   "outputs": [],
   "source": [
    "df.write.parquet(data_dir + data_parquet_target)"
   ]
  }
 ],
 "metadata": {
  "kernelspec": {
   "display_name": "Python 3",
   "language": "python",
   "name": "python3"
  },
  "language_info": {
   "codemirror_mode": {
    "name": "ipython",
    "version": 3
   },
   "file_extension": ".py",
   "mimetype": "text/x-python",
   "name": "python",
   "nbconvert_exporter": "python",
   "pygments_lexer": "ipython3",
   "version": "3.8.6"
  },
  "papermill": {
   "default_parameters": {},
   "duration": 691.045497,
   "end_time": "2021-03-17T17:33:29.192315",
   "environment_variables": {},
   "exception": null,
   "input_path": "/home/jovyan/work/examples/pipelines/pairs/component-library/filter/spark-sample.ipynb",
   "output_path": "/home/jovyan/work/examples/pipelines/pairs/component-library/filter/spark-sample.ipynb",
   "parameters": {},
   "start_time": "2021-03-17T17:21:58.146818",
   "version": "2.3.3"
  }
 },
 "nbformat": 4,
 "nbformat_minor": 5
}