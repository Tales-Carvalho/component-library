{
 "cells": [
  {
   "cell_type": "markdown",
   "id": "initial-disposition",
   "metadata": {},
   "source": [
    "# Computes trends of time series by fitting a low order polinomial\n",
    "\n",
    "WARNING: This component currently only supports local execution (not Kubeflow/Airflow)  \n",
    "WARNING: This component currently only supports copernicus climate data\n",
    "\n",
    "\n",
    "Future work    \n",
    "[ ] Generalize component  \n",
    "[ ] Make component run on KubeFlow/Airflow pipelines"
   ]
  },
  {
   "cell_type": "code",
   "execution_count": null,
   "id": "promising-exception",
   "metadata": {},
   "outputs": [],
   "source": [
    "# @param data_dir temporal data storage for local execution\n",
    "# @param data_parquet path and parquet file name (default: data.parquet)\n",
    "# @param master url of master (default: local mode)"
   ]
  },
  {
   "cell_type": "code",
   "execution_count": null,
   "id": "tight-prospect",
   "metadata": {},
   "outputs": [],
   "source": [
    "!pip3 install pyspark==3.1.1"
   ]
  },
  {
   "cell_type": "code",
   "execution_count": null,
   "id": "unknown-greek",
   "metadata": {},
   "outputs": [],
   "source": [
    "from pyspark import SparkContext, SparkConf\n",
    "from pyspark.sql import SparkSession\n",
    "import os\n",
    "import pickle\n",
    "import numpy as np"
   ]
  },
  {
   "cell_type": "code",
   "execution_count": null,
   "id": "black-laser",
   "metadata": {},
   "outputs": [],
   "source": [
    "data_parquet = os.environ.get('data_parquet', 'data.parquet')\n",
    "master = os.environ.get('master', \"local[*]\")\n",
    "data_dir = os.environ.get('data_dir', '../../data/')"
   ]
  },
  {
   "cell_type": "code",
   "execution_count": null,
   "id": "spiritual-headset",
   "metadata": {},
   "outputs": [],
   "source": [
    "sc = SparkContext.getOrCreate(SparkConf().setMaster(master))\n",
    "spark = SparkSession.builder.getOrCreate()"
   ]
  },
  {
   "cell_type": "code",
   "execution_count": null,
   "id": "successful-processor",
   "metadata": {},
   "outputs": [],
   "source": [
    "df = spark.read.parquet(data_dir+data_parquet)"
   ]
  },
  {
   "cell_type": "code",
   "execution_count": null,
   "id": "narrow-silence",
   "metadata": {},
   "outputs": [],
   "source": [
    "df.createOrReplaceTempView('df')"
   ]
  },
  {
   "cell_type": "code",
   "execution_count": null,
   "id": "velvet-palmer",
   "metadata": {},
   "outputs": [],
   "source": [
    "if os.path.exists(data_dir+'lon_lat.p'):\n",
    "    lon_lat = pickle.load(open(data_dir+\"lon_lat.p\", \"rb\"))\n",
    "else:\n",
    "    lon_lat = spark.sql('''\n",
    "        select lon, lat from df where group by lon, lat\n",
    "    ''').rdd.map(lambda x: [x.lon, x.lat]).collect()\n",
    "    pickle.dump(lon_lat, open(data_dir+\"lon_lat.p\", \"wb\" ))"
   ]
  },
  {
   "cell_type": "code",
   "execution_count": null,
   "id": "capable-message",
   "metadata": {},
   "outputs": [],
   "source": [
    "if os.path.exists(data_dir+'lon_lat_slope.p'):\n",
    "    lon_lat_slope = pickle.load(open(data_dir+\"lon_lat_slope.p\", \"rb\"))\n",
    "else:\n",
    "    lon_lat_slope = dict()"
   ]
  },
  {
   "cell_type": "code",
   "execution_count": null,
   "id": "satisfied-morrison",
   "metadata": {
    "scrolled": true,
    "tags": []
   },
   "outputs": [],
   "source": [
    "for index in range(len(lon_lat)):\n",
    "    if not lon_lat[index][0]+lon_lat[index][1] in lon_lat_slope:\n",
    "        sm = spark.sql(\"select sm from df where sm <> 'null' and lat='\"+\n",
    "                       lon_lat[index][0]+\n",
    "                       \"' and lon='\"+\n",
    "                       lon_lat[index][1]+\n",
    "                       \"' order by time asc\").collect()\n",
    "        import numpy as np\n",
    "        sm = np.array(list(map(lambda x :x.sm, sm)))\n",
    "        sm = sm.astype(float)\n",
    "        if len(sm)> 0:\n",
    "            coefficients, residuals, _, _, _ = np.polyfit(range(len(sm)),sm,1,full=True)\n",
    "            mse = residuals[0]/(len(sm))\n",
    "            nrmse = np.sqrt(mse)/(sm.max() - sm.min())\n",
    "            print('Slope ' + str(coefficients[1]))\n",
    "            print('NRMSE: ' + str(nrmse))\n",
    "            lon_lat_slope[lon_lat[index][0]+lon_lat[index][1]]=[coefficients[1]]\n",
    "            pickle.dump(lon_lat_slope, open(data_dir+\"lon_lat_slope.p\", \"wb\"))\n",
    "        else:\n",
    "            print('skipping, empty data')\n",
    "    else:\n",
    "            print('already processed')"
   ]
  }
 ],
 "metadata": {
  "kernelspec": {
   "display_name": "Python 3",
   "language": "python",
   "name": "python3"
  },
  "language_info": {
   "codemirror_mode": {
    "name": "ipython",
    "version": 3
   },
   "file_extension": ".py",
   "mimetype": "text/x-python",
   "name": "python",
   "nbconvert_exporter": "python",
   "pygments_lexer": "ipython3",
   "version": "3.8.6"
  }
 },
 "nbformat": 4,
 "nbformat_minor": 5
}
