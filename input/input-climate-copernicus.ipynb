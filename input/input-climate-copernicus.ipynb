{
 "cells": [
  {
   "cell_type": "markdown",
   "id": "asian-situation",
   "metadata": {
    "papermill": {
     "duration": 0.022097,
     "end_time": "2021-04-06T15:33:53.837895",
     "exception": false,
     "start_time": "2021-04-06T15:33:53.815798",
     "status": "completed"
    },
    "tags": []
   },
   "source": [
    "# Pulls data from the Copernicus Data Provider (European Commision) available at cds.climate.copernicus.eu\n",
    "The output is a csv file containing the requested time series.\n",
    "\n",
    "As currently downloading the complete (daily) data set is not supported due to size limitations - only sampled data for every 10th day is available\n",
    "\n",
    "To use the data set legally it is required to create an account here: https://cds.climate.copernicus.eu/\n",
    "Please then obtain your API key from your user provide and provide it as a parameter to this component\n",
    "\n",
    "WARNING: This component currently only supports local execution (not Kubeflow/Airflow)\n",
    "\n",
    "Future work  \n",
    "[ ] Download complete data set by creating multile requests and then merge the results"
   ]
  },
  {
   "cell_type": "code",
   "execution_count": 24,
   "id": "referenced-serial",
   "metadata": {
    "papermill": {
     "duration": 6.449538,
     "end_time": "2021-04-06T15:34:00.298216",
     "exception": false,
     "start_time": "2021-04-06T15:33:53.848678",
     "status": "completed"
    },
    "tags": []
   },
   "outputs": [
    {
     "name": "stdout",
     "output_type": "stream",
     "text": [
      "Collecting xarray==0.17.0\n",
      "  Downloading xarray-0.17.0-py3-none-any.whl (759 kB)\n",
      "\u001b[K     |████████████████████████████████| 759 kB 8.8 MB/s eta 0:00:01\n",
      "\u001b[?25hCollecting netcdf4==1.5.6\n",
      "  Downloading netCDF4-1.5.6-cp38-cp38-manylinux2014_x86_64.whl (4.7 MB)\n",
      "\u001b[K     |████████████████████████████████| 4.7 MB 44.3 MB/s eta 0:00:01\n",
      "\u001b[?25hCollecting cdsapi==0.5.1\n",
      "  Downloading cdsapi-0.5.1.tar.gz (12 kB)\n",
      "Collecting wget==3.2\n",
      "  Downloading wget-3.2.zip (10 kB)\n",
      "Requirement already satisfied: requests>=2.5.0 in /opt/conda/lib/python3.8/site-packages (from cdsapi==0.5.1) (2.25.1)\n",
      "Requirement already satisfied: tqdm in /opt/conda/lib/python3.8/site-packages (from cdsapi==0.5.1) (4.59.0)\n",
      "Collecting cftime\n",
      "  Downloading cftime-1.4.1-cp38-cp38-manylinux2014_x86_64.whl (322 kB)\n",
      "\u001b[K     |████████████████████████████████| 322 kB 49.8 MB/s eta 0:00:01\n",
      "\u001b[?25hRequirement already satisfied: numpy>=1.9 in /opt/conda/lib/python3.8/site-packages (from netcdf4==1.5.6) (1.19.5)\n",
      "Requirement already satisfied: setuptools>=40.4 in /opt/conda/lib/python3.8/site-packages (from xarray==0.17.0) (54.1.2)\n",
      "Requirement already satisfied: pandas>=0.25 in /opt/conda/lib/python3.8/site-packages (from xarray==0.17.0) (1.2.3)\n",
      "Requirement already satisfied: python-dateutil>=2.7.3 in /opt/conda/lib/python3.8/site-packages (from pandas>=0.25->xarray==0.17.0) (2.8.1)\n",
      "Requirement already satisfied: pytz>=2017.3 in /opt/conda/lib/python3.8/site-packages (from pandas>=0.25->xarray==0.17.0) (2021.1)\n",
      "Requirement already satisfied: six>=1.5 in /opt/conda/lib/python3.8/site-packages (from python-dateutil>=2.7.3->pandas>=0.25->xarray==0.17.0) (1.15.0)\n",
      "Requirement already satisfied: chardet<5,>=3.0.2 in /opt/conda/lib/python3.8/site-packages (from requests>=2.5.0->cdsapi==0.5.1) (4.0.0)\n",
      "Requirement already satisfied: certifi>=2017.4.17 in /opt/conda/lib/python3.8/site-packages (from requests>=2.5.0->cdsapi==0.5.1) (2020.12.5)\n",
      "Requirement already satisfied: urllib3<1.27,>=1.21.1 in /opt/conda/lib/python3.8/site-packages (from requests>=2.5.0->cdsapi==0.5.1) (1.26.3)\n",
      "Requirement already satisfied: idna<3,>=2.5 in /opt/conda/lib/python3.8/site-packages (from requests>=2.5.0->cdsapi==0.5.1) (2.10)\n",
      "Building wheels for collected packages: cdsapi, wget\n",
      "  Building wheel for cdsapi (setup.py) ... \u001b[?25ldone\n",
      "\u001b[?25h  Created wheel for cdsapi: filename=cdsapi-0.5.1-py2.py3-none-any.whl size=11688 sha256=5ec336f25378ae2fda86edb96b8ee17c3b8fb8d31496291a555afb329b307c74\n",
      "  Stored in directory: /home/jovyan/.cache/pip/wheels/5b/a2/af/7a52b8437e534f0b5f1b71232dd9534920579a142d9a191a63\n",
      "  Building wheel for wget (setup.py) ... \u001b[?25ldone\n",
      "\u001b[?25h  Created wheel for wget: filename=wget-3.2-py3-none-any.whl size=9680 sha256=b1998ec7a2fe8cadf980f1a7b6679d1d85493720339b96509f6b130d281fa0d2\n",
      "  Stored in directory: /home/jovyan/.cache/pip/wheels/bd/a8/c3/3cf2c14a1837a4e04bd98631724e81f33f462d86a1d895fae0\n",
      "Successfully built cdsapi wget\n",
      "Installing collected packages: cftime, xarray, wget, netcdf4, cdsapi\n",
      "Successfully installed cdsapi-0.5.1 cftime-1.4.1 netcdf4-1.5.6 wget-3.2 xarray-0.17.0\n"
     ]
    }
   ],
   "source": [
    "!pip3 install xarray==0.17.0 netcdf4==1.5.6 cdsapi==0.5.1 wget==3.2"
   ]
  },
  {
   "cell_type": "code",
   "execution_count": 2,
   "id": "sharing-reserve",
   "metadata": {
    "execution": {
     "iopub.execute_input": "2021-04-06T15:34:00.344245Z",
     "iopub.status.busy": "2021-04-06T15:34:00.343465Z",
     "iopub.status.idle": "2021-04-06T15:34:00.345374Z",
     "shell.execute_reply": "2021-04-06T15:34:00.345768Z"
    },
    "papermill": {
     "duration": 0.023171,
     "end_time": "2021-04-06T15:34:00.345966",
     "exception": false,
     "start_time": "2021-04-06T15:34:00.322795",
     "status": "completed"
    },
    "tags": []
   },
   "outputs": [],
   "source": [
    "# @param api key in form UID:APIKey obtained from\n",
    "# https://cds.climate.copernicus.eu/\n",
    "# @param data_dir temporal data storage for local execution\n",
    "# @param file_name csv file name\n",
    "# @param start_year of data\n",
    "# @param end_year of data"
   ]
  },
  {
   "cell_type": "code",
   "execution_count": 3,
   "id": "dimensional-inquiry",
   "metadata": {
    "execution": {
     "iopub.execute_input": "2021-04-06T15:34:00.379684Z",
     "iopub.status.busy": "2021-04-06T15:34:00.378896Z",
     "iopub.status.idle": "2021-04-06T15:34:00.630868Z",
     "shell.execute_reply": "2021-04-06T15:34:00.631389Z"
    },
    "papermill": {
     "duration": 0.270152,
     "end_time": "2021-04-06T15:34:00.631600",
     "exception": false,
     "start_time": "2021-04-06T15:34:00.361448",
     "status": "completed"
    },
    "tags": []
   },
   "outputs": [
    {
     "data": {
      "text/plain": [
       "'claimed_utils (8).py'"
      ]
     },
     "execution_count": 3,
     "metadata": {},
     "output_type": "execute_result"
    }
   ],
   "source": [
    "import wget\n",
    "wget.download(\n",
    "    'https://raw.githubusercontent.com/elyra-ai/' +\n",
    "    'component-library/master/claimed_utils.py'\n",
    ")"
   ]
  },
  {
   "cell_type": "code",
   "execution_count": 41,
   "id": "unable-aberdeen",
   "metadata": {
    "papermill": {
     "duration": 0.820596,
     "end_time": "2021-04-06T15:34:01.469339",
     "exception": false,
     "start_time": "2021-04-06T15:34:00.648743",
     "status": "completed"
    },
    "tags": []
   },
   "outputs": [],
   "source": [
    "import cdsapi\n",
    "import xarray as xr\n",
    "from claimed_utils import unzip\n",
    "import pandas as pd\n",
    "import os\n",
    "import glob"
   ]
  },
  {
   "cell_type": "code",
   "execution_count": 42,
   "id": "angry-compromise",
   "metadata": {
    "papermill": {
     "duration": 0.023729,
     "end_time": "2021-04-06T15:34:01.510228",
     "exception": false,
     "start_time": "2021-04-06T15:34:01.486499",
     "status": "completed"
    },
    "tags": []
   },
   "outputs": [],
   "source": [
    "apikey = os.environ.get('api key')\n",
    "file_name = os.environ.get('file_name', 'data.csv')\n",
    "data_dir = os.environ.get('data_dir', '../../data/')\n",
    "start_year = os.environ.get('file_name', '2017') #up to 1978\n",
    "end_year = os.environ.get('file_name', '2019')"
   ]
  },
  {
   "cell_type": "code",
   "execution_count": 43,
   "id": "aggressive-bundle",
   "metadata": {},
   "outputs": [],
   "source": [
    "apikey = '80380:4b060692-2f02-446c-8c48-486987c39885'"
   ]
  },
  {
   "cell_type": "code",
   "execution_count": 44,
   "id": "collected-continent",
   "metadata": {
    "papermill": {
     "duration": 0.021484,
     "end_time": "2021-04-06T15:34:01.546626",
     "exception": false,
     "start_time": "2021-04-06T15:34:01.525142",
     "status": "completed"
    },
    "tags": []
   },
   "outputs": [],
   "source": [
    "skip = False\n",
    "\n",
    "if os.path.exists(data_dir+file_name):\n",
    "    skip = True"
   ]
  },
  {
   "cell_type": "code",
   "execution_count": 45,
   "id": "dressed-complaint",
   "metadata": {},
   "outputs": [],
   "source": [
    "skip = False"
   ]
  },
  {
   "cell_type": "code",
   "execution_count": 46,
   "id": "activated-finance",
   "metadata": {
    "papermill": {
     "duration": 0.02158,
     "end_time": "2021-04-06T15:34:01.582940",
     "exception": false,
     "start_time": "2021-04-06T15:34:01.561360",
     "status": "completed"
    },
    "tags": []
   },
   "outputs": [],
   "source": [
    "if not skip:\n",
    "    with open(os.path.expanduser('~/.cdsapirc'), \"w\") as myfile:\n",
    "        myfile.write(\"url: https://cds.climate.copernicus.eu/api/v2\\n\")\n",
    "        myfile.write(\"key: \"+apikey+\"\\n\")\n",
    "        myfile.write(\"verify: 0\")"
   ]
  },
  {
   "cell_type": "code",
   "execution_count": 47,
   "id": "other-leeds",
   "metadata": {},
   "outputs": [],
   "source": [
    "year_range = []\n",
    "for i in range(int(start_year),int(end_year)+1):\n",
    "    year_range.append(str(i))\n"
   ]
  },
  {
   "cell_type": "code",
   "execution_count": 48,
   "id": "found-parent",
   "metadata": {},
   "outputs": [],
   "source": [
    "query = {\n",
    "            'variable': 'volumetric_surface_soil_moisture',\n",
    "            'type_of_sensor': 'passive',\n",
    "            'time_aggregation': 'month_average',\n",
    "            'year': [\n",
    "                '2017', '2018', '2019'\n",
    "            ],\n",
    "            'month': [\n",
    "                '01', '02', '03',\n",
    "                '04', '05', '06',\n",
    "                '07', '08', '09',\n",
    "                '10', '11', '12',\n",
    "            ],\n",
    "            'day': '01',\n",
    "            'type_of_record': 'cdr',\n",
    "            'version': 'v201912.0.0',\n",
    "            'format': 'zip',\n",
    "        }\n",
    "query['year'] = year_range"
   ]
  },
  {
   "cell_type": "code",
   "execution_count": 49,
   "id": "comic-bathroom",
   "metadata": {
    "papermill": {
     "duration": 0.02449,
     "end_time": "2021-04-06T15:34:01.622599",
     "exception": false,
     "start_time": "2021-04-06T15:34:01.598109",
     "status": "completed"
    },
    "tags": []
   },
   "outputs": [
    {
     "name": "stderr",
     "output_type": "stream",
     "text": [
      "/opt/conda/lib/python3.8/site-packages/urllib3/connectionpool.py:1013: InsecureRequestWarning: Unverified HTTPS request is being made to host 'cds.climate.copernicus.eu'. Adding certificate verification is strongly advised. See: https://urllib3.readthedocs.io/en/latest/advanced-usage.html#ssl-warnings\n",
      "  warnings.warn(\n",
      "2021-04-08 05:45:34,309 INFO Welcome to the CDS\n",
      "2021-04-08 05:45:34,311 INFO Sending request to https://cds.climate.copernicus.eu/api/v2/resources/satellite-soil-moisture\n",
      "/opt/conda/lib/python3.8/site-packages/urllib3/connectionpool.py:1013: InsecureRequestWarning: Unverified HTTPS request is being made to host 'cds.climate.copernicus.eu'. Adding certificate verification is strongly advised. See: https://urllib3.readthedocs.io/en/latest/advanced-usage.html#ssl-warnings\n",
      "  warnings.warn(\n",
      "2021-04-08 05:45:34,409 INFO Request is completed\n",
      "2021-04-08 05:45:34,411 INFO Downloading https://download-0014.copernicus-climate.eu/cache-compute-0014/cache/data4/dataset-satellite-soil-moisture-adb430f3-7933-4cd8-9bad-e2b71242ae38.zip to ../../data/download.zip (25.9M)\n",
      "/opt/conda/lib/python3.8/site-packages/urllib3/connectionpool.py:1013: InsecureRequestWarning: Unverified HTTPS request is being made to host 'download-0014.copernicus-climate.eu'. Adding certificate verification is strongly advised. See: https://urllib3.readthedocs.io/en/latest/advanced-usage.html#ssl-warnings\n",
      "  warnings.warn(\n",
      "2021-04-08 05:45:35,341 INFO Download rate 27.9M/s  \n",
      "/opt/conda/lib/python3.8/site-packages/urllib3/connectionpool.py:1013: InsecureRequestWarning: Unverified HTTPS request is being made to host 'cds.climate.copernicus.eu'. Adding certificate verification is strongly advised. See: https://urllib3.readthedocs.io/en/latest/advanced-usage.html#ssl-warnings\n",
      "  warnings.warn(\n"
     ]
    }
   ],
   "source": [
    "if not skip:\n",
    "    \n",
    "    c = cdsapi.Client()\n",
    "\n",
    "    c.retrieve(\n",
    "        'satellite-soil-moisture',\n",
    "        query,\n",
    "        data_dir+'download.zip')"
   ]
  },
  {
   "cell_type": "code",
   "execution_count": 9,
   "id": "parliamentary-november",
   "metadata": {
    "execution": {
     "iopub.execute_input": "2021-04-06T15:34:01.655902Z",
     "iopub.status.busy": "2021-04-06T15:34:01.655164Z",
     "iopub.status.idle": "2021-04-06T15:34:01.658447Z",
     "shell.execute_reply": "2021-04-06T15:34:01.658846Z"
    },
    "papermill": {
     "duration": 0.021448,
     "end_time": "2021-04-06T15:34:01.658999",
     "exception": false,
     "start_time": "2021-04-06T15:34:01.637551",
     "status": "completed"
    },
    "tags": []
   },
   "outputs": [],
   "source": [
    "if not skip:\n",
    "    for f in glob.glob(data_dir+'*.nc'):\n",
    "        os.remove(f)"
   ]
  },
  {
   "cell_type": "code",
   "execution_count": 10,
   "id": "interpreted-extra",
   "metadata": {
    "execution": {
     "iopub.execute_input": "2021-04-06T15:34:01.692245Z",
     "iopub.status.busy": "2021-04-06T15:34:01.691502Z",
     "iopub.status.idle": "2021-04-06T15:34:01.694588Z",
     "shell.execute_reply": "2021-04-06T15:34:01.694986Z"
    },
    "papermill": {
     "duration": 0.021098,
     "end_time": "2021-04-06T15:34:01.695138",
     "exception": false,
     "start_time": "2021-04-06T15:34:01.674040",
     "status": "completed"
    },
    "tags": []
   },
   "outputs": [],
   "source": [
    "if not skip:\n",
    "    unzip(data_dir, data_dir+'download.zip')"
   ]
  },
  {
   "cell_type": "code",
   "execution_count": 11,
   "id": "focal-madison",
   "metadata": {
    "execution": {
     "iopub.execute_input": "2021-04-06T15:34:01.730154Z",
     "iopub.status.busy": "2021-04-06T15:34:01.729369Z",
     "iopub.status.idle": "2021-04-06T15:34:01.735653Z",
     "shell.execute_reply": "2021-04-06T15:34:01.736045Z"
    },
    "papermill": {
     "duration": 0.026043,
     "end_time": "2021-04-06T15:34:01.736214",
     "exception": false,
     "start_time": "2021-04-06T15:34:01.710171",
     "status": "completed"
    },
    "scrolled": true,
    "tags": []
   },
   "outputs": [],
   "source": [
    "debug = False\n",
    "\n",
    "if not skip:\n",
    "    for filename in os.listdir(data_dir):\n",
    "        if filename.endswith(\".nc\") :\n",
    "            if debug:\n",
    "                print('Starting to process {}...'.format(filename))\n",
    "            else:\n",
    "                print(\".\", end =\"\") \n",
    "            filename_csv = filename.split('.nc')[0]+'.csv'\n",
    "            if not os.path.exists(data_dir+filename_csv):\n",
    "                dset = xr.open_dataset(os.path.join(data_dir, filename))\n",
    "                df = pd.DataFrame(dset['sm'].to_series())\n",
    "                df.reset_index(inplace=True)\n",
    "                df.to_csv(data_dir+filename_csv, index=False)\n",
    "            else:\n",
    "                if debug:\n",
    "                    print('CSV file {} already present, skipping...'.format(filename_csv))\n",
    "                else:\n",
    "                    print(\"c\", end =\"\") \n",
    "            os.remove(data_dir+filename)\n",
    "        else:\n",
    "            continue"
   ]
  },
  {
   "cell_type": "code",
   "execution_count": 12,
   "id": "seasonal-invention",
   "metadata": {
    "execution": {
     "iopub.execute_input": "2021-04-06T15:34:01.769656Z",
     "iopub.status.busy": "2021-04-06T15:34:01.768900Z",
     "iopub.status.idle": "2021-04-06T15:34:10.030560Z",
     "shell.execute_reply": "2021-04-06T15:34:10.032468Z"
    },
    "papermill": {
     "duration": 8.281548,
     "end_time": "2021-04-06T15:34:10.032850",
     "exception": false,
     "start_time": "2021-04-06T15:34:01.751302",
     "status": "completed"
    },
    "tags": []
   },
   "outputs": [],
   "source": [
    "!echo \"time,lat,lon,sm\" > ../../data/data.csv\n",
    "!for file in `ls ../../data/C3S-SOILMOISTURE-*.csv`; do cat $file |tail -n +2 >> ../../data/data.csv; done"
   ]
  }
 ],
 "metadata": {
  "kernelspec": {
   "display_name": "Python 3",
   "language": "python",
   "name": "python3"
  },
  "language_info": {
   "codemirror_mode": {
    "name": "ipython",
    "version": 3
   },
   "file_extension": ".py",
   "mimetype": "text/x-python",
   "name": "python",
   "nbconvert_exporter": "python",
   "pygments_lexer": "ipython3",
   "version": "3.8.6"
  },
  "papermill": {
   "default_parameters": {},
   "duration": 17.49536,
   "end_time": "2021-04-06T15:34:10.489088",
   "environment_variables": {},
   "exception": null,
   "input_path": "/home/jovyan/work/examples/pipelines/pairs/component-library/input/input-climate-copernicus.ipynb",
   "output_path": "/home/jovyan/work/examples/pipelines/pairs/component-library/input/input-climate-copernicus.ipynb",
   "parameters": {},
   "start_time": "2021-04-06T15:33:52.993728",
   "version": "2.3.3"
  }
 },
 "nbformat": 4,
 "nbformat_minor": 5
}
