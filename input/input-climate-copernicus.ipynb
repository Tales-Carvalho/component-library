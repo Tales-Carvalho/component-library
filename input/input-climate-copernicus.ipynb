{
 "cells": [
  {
   "cell_type": "code",
   "execution_count": null,
   "id": "consecutive-blogger",
   "metadata": {},
   "outputs": [],
   "source": [
    "!pip3 install xarray==0.17.0 netcdf4==1.5.6 cdsapi==0.5.1 wget==3.2"
   ]
  },
  {
   "cell_type": "code",
   "execution_count": null,
   "id": "systematic-injection",
   "metadata": {},
   "outputs": [],
   "source": [
    "!echo url: https://cds.climate.copernicus.eu/api/v2 > ~/.cdsapirc\n",
    "!echo key: x:y >> ~/.cdsapirc \n",
    "!echo verify: 0 >> ~/.cdsapirc\n",
    "!cat ~/.cdsapirc"
   ]
  },
  {
   "cell_type": "code",
   "execution_count": null,
   "id": "endless-wallet",
   "metadata": {},
   "outputs": [],
   "source": [
    "import wget\n",
    "wget.download('https://raw.githubusercontent.com/elyra-ai/component-library/master/claimed_utils.py')"
   ]
  },
  {
   "cell_type": "code",
   "execution_count": null,
   "id": "charitable-style",
   "metadata": {},
   "outputs": [],
   "source": [
    "import cdsapi\n",
    "import xarray as xr\n",
    "from claimed_utils import unzip\n",
    "import pandas as pd\n",
    "import os "
   ]
  },
  {
   "cell_type": "code",
   "execution_count": null,
   "id": "dynamic-peoples",
   "metadata": {},
   "outputs": [],
   "source": [
    "c = cdsapi.Client()\n",
    "\n",
    "c.retrieve(\n",
    "    'satellite-soil-moisture',\n",
    "    {\n",
    "        'variable': [\n",
    "            'soil_moisture_saturation', 'volumetric_surface_soil_moisture',\n",
    "        ],\n",
    "        'type_of_sensor': [\n",
    "            'active', 'combined_passive_and_active', 'passive',\n",
    "        ],\n",
    "        'time_aggregation': '10_day_average',\n",
    "        'year': [\n",
    "            '2020', '2021',\n",
    "        ],\n",
    "        'month': [\n",
    "            '01', '02', '03',\n",
    "            '04', '05', '06',\n",
    "            '07', '08', '09',\n",
    "            '10', '11', '12',\n",
    "        ],\n",
    "        'day': [\n",
    "            '01', '11', '21',\n",
    "        ],\n",
    "        'type_of_record': 'icdr',\n",
    "        'version': 'v201912.0.0',\n",
    "        'format': 'zip',\n",
    "    },\n",
    "    '../../data/download.zip')"
   ]
  },
  {
   "cell_type": "code",
   "execution_count": null,
   "id": "destroyed-archives",
   "metadata": {},
   "outputs": [],
   "source": [
    "unzip('../../data/','../../data/download.zip')"
   ]
  },
  {
   "cell_type": "code",
   "execution_count": null,
   "id": "moderate-theology",
   "metadata": {},
   "outputs": [],
   "source": [
    "df = None\n",
    "data_dir= '../../data/'\n",
    "\n",
    "for filename in os.listdir(data_dir):\n",
    "    if filename.endswith(\".nc\") :\n",
    "        dset = xr.open_dataset(os.path.join(data_dir, filename))\n",
    "        df1 = pd.DataFrame(dset['sm'].to_series())\n",
    "        df1.reset_index(inplace=True)\n",
    "        if df is None:\n",
    "            df = df1\n",
    "        else:\n",
    "            df = df.append(df1, ignore_index=True)\n",
    "    else:\n",
    "        continue\n",
    "\n",
    "df"
   ]
  }
 ],
 "metadata": {
  "kernelspec": {
   "display_name": "Python 3",
   "language": "python",
   "name": "python3"
  },
  "language_info": {
   "codemirror_mode": {
    "name": "ipython",
    "version": 3
   },
   "file_extension": ".py",
   "mimetype": "text/x-python",
   "name": "python",
   "nbconvert_exporter": "python",
   "pygments_lexer": "ipython3",
   "version": "3.8.6"
  }
 },
 "nbformat": 4,
 "nbformat_minor": 5
}
