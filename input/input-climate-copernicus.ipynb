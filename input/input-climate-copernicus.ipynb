{
 "cells": [
  {
   "cell_type": "markdown",
   "id": "atomic-ceiling",
   "metadata": {
    "papermill": {
     "duration": 0.013187,
     "end_time": "2021-03-19T20:22:13.854586",
     "exception": false,
     "start_time": "2021-03-19T20:22:13.841399",
     "status": "completed"
    },
    "tags": []
   },
   "source": [
    "# Pulls data from the Copernicus Data Provider (European Commision) available at cds.climate.copernicus.eu\n",
    "The output is a csv file containing the requested time series.\n",
    "\n",
    "As currently downloading the complete (daily) data set is not supported due to size limitations - only sampled data for every 10th day is available\n",
    "\n",
    "To use the data set legally it is required to create an account here: https://cds.climate.copernicus.eu/\n",
    "Please then obtain your API key from your user provide and provide it as a parameter to this component\n",
    "\n",
    "WARNING: This component currently only supports local execution (not Kubeflow/Airflow)\n",
    "\n",
    "Future work  \n",
    "[ ] Download complete data set by creating multile requests and then merge the results"
   ]
  },
  {
   "cell_type": "code",
   "execution_count": null,
   "id": "dental-compensation",
   "metadata": {
    "papermill": {
     "duration": 7.954477,
     "end_time": "2021-03-19T20:22:21.817778",
     "exception": false,
     "start_time": "2021-03-19T20:22:13.863301",
     "status": "completed"
    },
    "tags": []
   },
   "outputs": [],
   "source": [
    "!pip3 install xarray==0.17.0 netcdf4==1.5.6 cdsapi==0.5.1 wget==3.2"
   ]
  },
  {
   "cell_type": "code",
   "execution_count": null,
   "id": "associate-yesterday",
   "metadata": {
    "papermill": {
     "duration": 0.029437,
     "end_time": "2021-03-19T20:22:21.864680",
     "exception": false,
     "start_time": "2021-03-19T20:22:21.835243",
     "status": "completed"
    },
    "tags": []
   },
   "outputs": [],
   "source": [
    "# @param api key in form UID:APIKey obtained from\n",
    "# https://cds.climate.copernicus.eu/\n",
    "# @param data_dir temporal data storage for local execution\n",
    "# @param file_name csv file name"
   ]
  },
  {
   "cell_type": "code",
   "execution_count": null,
   "id": "friendly-attachment",
   "metadata": {
    "papermill": {
     "duration": 0.227595,
     "end_time": "2021-03-19T20:22:22.109675",
     "exception": false,
     "start_time": "2021-03-19T20:22:21.882080",
     "status": "completed"
    },
    "tags": []
   },
   "outputs": [],
   "source": [
    "import wget\n",
    "wget.download(\n",
    "    'https://raw.githubusercontent.com/elyra-ai/' +\n",
    "    'component-library/master/claimed_utils.py'\n",
    ")"
   ]
  },
  {
   "cell_type": "code",
   "execution_count": 2,
   "id": "viral-pioneer",
   "metadata": {
    "papermill": {
     "duration": 0.775844,
     "end_time": "2021-03-19T20:22:22.904586",
     "exception": false,
     "start_time": "2021-03-19T20:22:22.128742",
     "status": "completed"
    },
    "tags": []
   },
   "outputs": [],
   "source": [
    "import cdsapi\n",
    "import xarray as xr\n",
    "from claimed_utils import unzip\n",
    "import pandas as pd\n",
    "import os\n",
    "import glob"
   ]
  },
  {
   "cell_type": "code",
   "execution_count": 3,
   "id": "fiscal-grill",
   "metadata": {
    "papermill": {
     "duration": 0.030856,
     "end_time": "2021-03-19T20:22:22.954692",
     "exception": false,
     "start_time": "2021-03-19T20:22:22.923836",
     "status": "completed"
    },
    "tags": []
   },
   "outputs": [],
   "source": [
    "apikey = os.environ.get('api key')\n",
    "file_name = os.environ.get('file_name', 'data.csv')\n",
    "data_dir = os.environ.get('data_dir', '../../data/')"
   ]
  },
  {
   "cell_type": "code",
   "execution_count": 4,
   "id": "adjustable-wings",
   "metadata": {
    "papermill": {
     "duration": 0.026879,
     "end_time": "2021-03-19T20:22:23.001291",
     "exception": false,
     "start_time": "2021-03-19T20:22:22.974412",
     "status": "completed"
    },
    "tags": []
   },
   "outputs": [],
   "source": [
    "skip = False\n",
    "\n",
    "if os.path.exists(data_dir+file_name):\n",
    "    skip = True"
   ]
  },
  {
   "cell_type": "code",
   "execution_count": null,
   "id": "organic-magic",
   "metadata": {
    "papermill": {
     "duration": 0.025708,
     "end_time": "2021-03-19T20:22:23.045699",
     "exception": false,
     "start_time": "2021-03-19T20:22:23.019991",
     "status": "completed"
    },
    "tags": []
   },
   "outputs": [],
   "source": [
    "if not skip:\n",
    "    with open(os.path.expanduser('~/.cdsapirc'), \"w\") as myfile:\n",
    "        myfile.write(\"url: https://cds.climate.copernicus.eu/api/v2\\n\")\n",
    "        myfile.write(\"key: \"+apikey+\"\\n\")\n",
    "        myfile.write(\"verify: 0\")"
   ]
  },
  {
   "cell_type": "code",
   "execution_count": null,
   "id": "connected-green",
   "metadata": {
    "papermill": {
     "duration": 27.69363,
     "end_time": "2021-03-19T20:22:50.757622",
     "exception": false,
     "start_time": "2021-03-19T20:22:23.063992",
     "status": "completed"
    },
    "tags": []
   },
   "outputs": [],
   "source": [
    "if not skip:\n",
    "    \n",
    "    c = cdsapi.Client()\n",
    "\n",
    "    c.retrieve(\n",
    "        'satellite-soil-moisture',\n",
    "        {\n",
    "            'variable': 'volumetric_surface_soil_moisture',\n",
    "            'type_of_sensor': 'passive',\n",
    "            'time_aggregation': 'month_average',\n",
    "            'year': [\n",
    "                '1978', '1979', '1980',\n",
    "                '1981', '1982', '1983',\n",
    "                '1984', '1985', '1986',\n",
    "                '1987', '1988', '1989',\n",
    "                '1990', '1991', '1992',\n",
    "                '1993', '1994', '1995',\n",
    "                '1996', '1997', '1998',\n",
    "                '1999', '2000', '2001',\n",
    "                '2002', '2003', '2004',\n",
    "                '2005', '2006', '2007',\n",
    "                '2008', '2009', '2010',\n",
    "                '2011', '2012', '2013',\n",
    "                '2014', '2015', '2016',\n",
    "                '2017', '2018', '2019',\n",
    "            ],\n",
    "            'month': [\n",
    "                '01', '02', '03',\n",
    "                '04', '05', '06',\n",
    "                '07', '08', '09',\n",
    "                '10', '11', '12',\n",
    "            ],\n",
    "            'day': '01',\n",
    "            'type_of_record': 'cdr',\n",
    "            'version': 'v201912.0.0',\n",
    "            'format': 'zip',\n",
    "        },\n",
    "        data_dir+'download.zip')"
   ]
  },
  {
   "cell_type": "code",
   "execution_count": null,
   "id": "opposite-background",
   "metadata": {
    "papermill": {
     "duration": 0.117841,
     "end_time": "2021-03-19T20:22:50.979741",
     "exception": false,
     "start_time": "2021-03-19T20:22:50.861900",
     "status": "completed"
    },
    "tags": []
   },
   "outputs": [],
   "source": [
    "if not skip:\n",
    "    for f in glob.glob(data_dir+'*.nc'):\n",
    "        os.remove(f)"
   ]
  },
  {
   "cell_type": "code",
   "execution_count": null,
   "id": "accepted-rescue",
   "metadata": {
    "papermill": {
     "duration": 0.917713,
     "end_time": "2021-03-19T20:22:51.998190",
     "exception": false,
     "start_time": "2021-03-19T20:22:51.080477",
     "status": "completed"
    },
    "tags": []
   },
   "outputs": [],
   "source": [
    "if not skip:\n",
    "    unzip(data_dir, data_dir+'download.zip')"
   ]
  },
  {
   "cell_type": "code",
   "execution_count": null,
   "id": "classical-sense",
   "metadata": {
    "papermill": {
     "duration": 2728.340431,
     "end_time": "2021-03-19T21:08:20.454593",
     "exception": false,
     "start_time": "2021-03-19T20:22:52.114162",
     "status": "completed"
    },
    "scrolled": true,
    "tags": []
   },
   "outputs": [],
   "source": [
    "skip = False\n",
    "\n",
    "if not skip:\n",
    "    for filename in os.listdir(data_dir):\n",
    "        if filename.endswith(\".nc\") :\n",
    "            print('Starting to process {}...'.format(filename))\n",
    "            filename_csv = filename.split('.nc')[0]+'.csv'\n",
    "            if not os.path.exists(data_dir+filename_csv):\n",
    "                dset = xr.open_dataset(os.path.join(data_dir, filename))\n",
    "                df = pd.DataFrame(dset['sm'].to_series())\n",
    "                df.reset_index(inplace=True)\n",
    "                df.to_csv(data_dir+filename_csv, index=False)\n",
    "            else:\n",
    "                print('CSV file {} already present, skipping...'.format(filename_csv))\n",
    "        else:\n",
    "            continue\n"
   ]
  },
  {
   "cell_type": "code",
   "execution_count": null,
   "id": "fluid-shore",
   "metadata": {},
   "outputs": [],
   "source": [
    "!echo \"time,lat,lon,sm\" > ../../data/data.csv\n",
    "for file in `ls ../../data/C3S-SOILMOISTURE-*.csv`; do cat $file |tail -n +2 >> ../../data/data.csv; done"
   ]
  }
 ],
 "metadata": {
  "kernelspec": {
   "display_name": "Python 3",
   "language": "python",
   "name": "python3"
  },
  "language_info": {
   "codemirror_mode": {
    "name": "ipython",
    "version": 3
   },
   "file_extension": ".py",
   "mimetype": "text/x-python",
   "name": "python",
   "nbconvert_exporter": "python",
   "pygments_lexer": "ipython3",
   "version": "3.8.6"
  },
  "papermill": {
   "default_parameters": {},
   "duration": 2768.322416,
   "end_time": "2021-03-19T21:08:21.265517",
   "environment_variables": {},
   "exception": null,
   "input_path": "/home/jovyan/work/examples/pipelines/pairs/component-library/input/input-climate-copernicus.ipynb",
   "output_path": "/home/jovyan/work/examples/pipelines/pairs/component-library/input/input-climate-copernicus.ipynb",
   "parameters": {},
   "start_time": "2021-03-19T20:22:12.943101",
   "version": "2.3.3"
  }
 },
 "nbformat": 4,
 "nbformat_minor": 5
}
