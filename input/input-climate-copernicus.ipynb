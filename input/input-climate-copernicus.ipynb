{
 "cells": [
  {
   "cell_type": "markdown",
   "id": "muslim-oasis",
   "metadata": {
    "papermill": {
     "duration": 0.006969,
     "end_time": "2021-03-17T17:21:50.132544",
     "exception": false,
     "start_time": "2021-03-17T17:21:50.125575",
     "status": "completed"
    },
    "tags": []
   },
   "source": [
    "# Pulls data from the Copernicus Data Provider (European Commision) available at cds.climate.copernicus.eu\n",
    "The output is a csv file containing the requested time series.\n",
    "\n",
    "As currently downloading the complete (daily) data set is not supported due to size limitations - only sampled data for every 10th day is available\n",
    "\n",
    "To use the data set legally it is required to create an account here: https://cds.climate.copernicus.eu/\n",
    "Please then obtain your API key from your user provide and provide it as a parameter to this component\n",
    "\n",
    "WARNING: This component currently only supports local execution (not Kubeflow/Airflow)\n",
    "\n",
    "Future work  \n",
    "[ ] Download complete data set by creating multile requests and then merge the results"
   ]
  },
  {
   "cell_type": "code",
   "execution_count": 1,
   "id": "trying-cookbook",
   "metadata": {
    "papermill": {
     "duration": 2.617944,
     "end_time": "2021-03-17T17:21:52.757114",
     "exception": false,
     "start_time": "2021-03-17T17:21:50.139170",
     "status": "completed"
    },
    "tags": []
   },
   "outputs": [
    {
     "name": "stdout",
     "output_type": "stream",
     "text": [
      "Collecting xarray==0.17.0\n",
      "  Downloading xarray-0.17.0-py3-none-any.whl (759 kB)\n",
      "\u001b[K     |████████████████████████████████| 759 kB 1.1 MB/s eta 0:00:01\n",
      "\u001b[?25hCollecting netcdf4==1.5.6\n",
      "  Downloading netCDF4-1.5.6-cp38-cp38-manylinux2014_x86_64.whl (4.7 MB)\n",
      "\u001b[K     |████████████████████████████████| 4.7 MB 3.5 MB/s eta 0:00:01\n",
      "\u001b[?25hCollecting cdsapi==0.5.1\n",
      "  Downloading cdsapi-0.5.1.tar.gz (12 kB)\n",
      "Collecting wget==3.2\n",
      "  Downloading wget-3.2.zip (10 kB)\n",
      "Requirement already satisfied: requests>=2.5.0 in /opt/conda/lib/python3.8/site-packages (from cdsapi==0.5.1) (2.25.1)\n",
      "Requirement already satisfied: tqdm in /opt/conda/lib/python3.8/site-packages (from cdsapi==0.5.1) (4.59.0)\n",
      "Collecting cftime\n",
      "  Downloading cftime-1.4.1-cp38-cp38-manylinux2014_x86_64.whl (322 kB)\n",
      "\u001b[K     |████████████████████████████████| 322 kB 3.2 MB/s eta 0:00:01\n",
      "\u001b[?25hRequirement already satisfied: numpy>=1.9 in /opt/conda/lib/python3.8/site-packages (from netcdf4==1.5.6) (1.19.5)\n",
      "Requirement already satisfied: pandas>=0.25 in /opt/conda/lib/python3.8/site-packages (from xarray==0.17.0) (1.2.3)\n",
      "Requirement already satisfied: setuptools>=40.4 in /opt/conda/lib/python3.8/site-packages (from xarray==0.17.0) (54.1.2)\n",
      "Requirement already satisfied: pytz>=2017.3 in /opt/conda/lib/python3.8/site-packages (from pandas>=0.25->xarray==0.17.0) (2021.1)\n",
      "Requirement already satisfied: python-dateutil>=2.7.3 in /opt/conda/lib/python3.8/site-packages (from pandas>=0.25->xarray==0.17.0) (2.8.1)\n",
      "Requirement already satisfied: six>=1.5 in /opt/conda/lib/python3.8/site-packages (from python-dateutil>=2.7.3->pandas>=0.25->xarray==0.17.0) (1.15.0)\n",
      "Requirement already satisfied: idna<3,>=2.5 in /opt/conda/lib/python3.8/site-packages (from requests>=2.5.0->cdsapi==0.5.1) (2.10)\n",
      "Requirement already satisfied: certifi>=2017.4.17 in /opt/conda/lib/python3.8/site-packages (from requests>=2.5.0->cdsapi==0.5.1) (2020.12.5)\n",
      "Requirement already satisfied: chardet<5,>=3.0.2 in /opt/conda/lib/python3.8/site-packages (from requests>=2.5.0->cdsapi==0.5.1) (4.0.0)\n",
      "Requirement already satisfied: urllib3<1.27,>=1.21.1 in /opt/conda/lib/python3.8/site-packages (from requests>=2.5.0->cdsapi==0.5.1) (1.26.3)\n",
      "Building wheels for collected packages: cdsapi, wget\n",
      "  Building wheel for cdsapi (setup.py) ... \u001b[?25ldone\n",
      "\u001b[?25h  Created wheel for cdsapi: filename=cdsapi-0.5.1-py2.py3-none-any.whl size=11688 sha256=57e25a5a5291967839b2688a26df4b05e0ab60d014e799b286a1bea2277524fe\n",
      "  Stored in directory: /home/jovyan/.cache/pip/wheels/5b/a2/af/7a52b8437e534f0b5f1b71232dd9534920579a142d9a191a63\n",
      "  Building wheel for wget (setup.py) ... \u001b[?25ldone\n",
      "\u001b[?25h  Created wheel for wget: filename=wget-3.2-py3-none-any.whl size=9680 sha256=5996628c31af9b0b0e64e8ffb63d6daa3de74a53ac168e6952013032115418b5\n",
      "  Stored in directory: /home/jovyan/.cache/pip/wheels/bd/a8/c3/3cf2c14a1837a4e04bd98631724e81f33f462d86a1d895fae0\n",
      "Successfully built cdsapi wget\n",
      "Installing collected packages: cftime, xarray, wget, netcdf4, cdsapi\n",
      "Successfully installed cdsapi-0.5.1 cftime-1.4.1 netcdf4-1.5.6 wget-3.2 xarray-0.17.0\n"
     ]
    }
   ],
   "source": [
    "!pip3 install xarray==0.17.0 netcdf4==1.5.6 cdsapi==0.5.1 wget==3.2"
   ]
  },
  {
   "cell_type": "code",
   "execution_count": null,
   "id": "generic-premium",
   "metadata": {
    "papermill": {
     "duration": 0.011565,
     "end_time": "2021-03-17T17:21:52.776531",
     "exception": false,
     "start_time": "2021-03-17T17:21:52.764966",
     "status": "completed"
    },
    "tags": []
   },
   "outputs": [],
   "source": [
    "# @param api key in form UID:APIKey obtained from\n",
    "# https://cds.climate.copernicus.eu/\n",
    "# @param data_dir temporal data storage for local execution\n",
    "# @param file_name csv file name"
   ]
  },
  {
   "cell_type": "code",
   "execution_count": null,
   "id": "described-wedding",
   "metadata": {
    "papermill": {
     "duration": 0.220842,
     "end_time": "2021-03-17T17:21:53.004443",
     "exception": false,
     "start_time": "2021-03-17T17:21:52.783601",
     "status": "completed"
    },
    "tags": []
   },
   "outputs": [],
   "source": [
    "import wget\n",
    "wget.download(\n",
    "    'https://raw.githubusercontent.com/elyra-ai/' +\n",
    "    'component-library/master/claimed_utils.py'\n",
    ")"
   ]
  },
  {
   "cell_type": "code",
   "execution_count": null,
   "id": "binary-relationship",
   "metadata": {
    "papermill": {
     "duration": 0.595738,
     "end_time": "2021-03-17T17:21:53.613785",
     "exception": false,
     "start_time": "2021-03-17T17:21:53.018047",
     "status": "completed"
    },
    "tags": []
   },
   "outputs": [],
   "source": [
    "import cdsapi\n",
    "import xarray as xr\n",
    "from claimed_utils import unzip\n",
    "import pandas as pd\n",
    "import os\n",
    "import glob"
   ]
  },
  {
   "cell_type": "code",
   "execution_count": null,
   "id": "wicked-return",
   "metadata": {
    "papermill": {
     "duration": 0.01343,
     "end_time": "2021-03-17T17:21:53.635250",
     "exception": false,
     "start_time": "2021-03-17T17:21:53.621820",
     "status": "completed"
    },
    "tags": []
   },
   "outputs": [],
   "source": [
    "apikey = os.environ.get('api key')\n",
    "file_name = os.environ.get('file_name', 'data.csv')\n",
    "data_dir = os.environ.get('data_dir', '../../data/')"
   ]
  },
  {
   "cell_type": "code",
   "execution_count": null,
   "id": "serial-above",
   "metadata": {
    "papermill": {
     "duration": 0.014379,
     "end_time": "2021-03-17T17:21:53.657024",
     "exception": false,
     "start_time": "2021-03-17T17:21:53.642645",
     "status": "completed"
    },
    "tags": []
   },
   "outputs": [],
   "source": [
    "skip = False\n",
    "\n",
    "if os.path.exists(data_dir+file_name):\n",
    "    skip = True"
   ]
  },
  {
   "cell_type": "code",
   "execution_count": null,
   "id": "complete-injury",
   "metadata": {
    "papermill": {
     "duration": 0.01709,
     "end_time": "2021-03-17T17:21:53.681944",
     "exception": false,
     "start_time": "2021-03-17T17:21:53.664854",
     "status": "completed"
    },
    "tags": []
   },
   "outputs": [],
   "source": [
    "if not skip:\n",
    "    with open(os.path.expanduser('~/.cdsapirc'), \"w\") as myfile:\n",
    "        myfile.write(\"url: https://cds.climate.copernicus.eu/api/v2\\n\")\n",
    "        myfile.write(\"key: \"+apikey+\"\\n\")\n",
    "        myfile.write(\"verify: 0\")"
   ]
  },
  {
   "cell_type": "code",
   "execution_count": null,
   "id": "common-cuisine",
   "metadata": {
    "papermill": {
     "duration": 0.014809,
     "end_time": "2021-03-17T17:21:53.706598",
     "exception": false,
     "start_time": "2021-03-17T17:21:53.691789",
     "status": "completed"
    },
    "tags": []
   },
   "outputs": [],
   "source": [
    "if not skip:\n",
    "    \n",
    "    c = cdsapi.Client()\n",
    "\n",
    "    c.retrieve(\n",
    "        'satellite-soil-moisture',\n",
    "        {\n",
    "            'variable': 'volumetric_surface_soil_moisture',\n",
    "            'type_of_sensor': 'passive',\n",
    "            'time_aggregation': 'month_average',\n",
    "            'year': [\n",
    "                '1978', '1979', '1980',\n",
    "                '1981', '1982', '1983',\n",
    "                '1984', '1985', '1986',\n",
    "                '1987', '1988', '1989',\n",
    "                '1990', '1991', '1992',\n",
    "                '1993', '1994', '1995',\n",
    "                '1996', '1997', '1998',\n",
    "                '1999', '2000', '2001',\n",
    "                '2002', '2003', '2004',\n",
    "                '2005', '2006', '2007',\n",
    "                '2008', '2009', '2010',\n",
    "                '2011', '2012', '2013',\n",
    "                '2014', '2015', '2016',\n",
    "                '2017', '2018', '2019',\n",
    "            ],\n",
    "            'month': [\n",
    "                '01', '02', '03',\n",
    "                '04', '05', '06',\n",
    "                '07', '08', '09',\n",
    "                '10', '11', '12',\n",
    "            ],\n",
    "            'day': '01',\n",
    "            'type_of_record': 'cdr',\n",
    "            'version': 'v201912.0.0',\n",
    "            'format': 'zip',\n",
    "        },\n",
    "        data_dir+'download.zip')"
   ]
  },
  {
   "cell_type": "code",
   "execution_count": null,
   "id": "arranged-issue",
   "metadata": {
    "papermill": {
     "duration": 0.011517,
     "end_time": "2021-03-17T17:21:53.725503",
     "exception": false,
     "start_time": "2021-03-17T17:21:53.713986",
     "status": "completed"
    },
    "tags": []
   },
   "outputs": [],
   "source": [
    "if not skip:\n",
    "    for f in glob.glob(data_dir+'*.nc'):\n",
    "        os.remove(f)"
   ]
  },
  {
   "cell_type": "code",
   "execution_count": null,
   "id": "composed-experience",
   "metadata": {
    "papermill": {
     "duration": 0.012149,
     "end_time": "2021-03-17T17:21:53.745339",
     "exception": false,
     "start_time": "2021-03-17T17:21:53.733190",
     "status": "completed"
    },
    "tags": []
   },
   "outputs": [],
   "source": [
    "if not skip:\n",
    "    unzip(data_dir, data_dir+'download.zip')"
   ]
  },
  {
   "cell_type": "code",
   "execution_count": null,
   "id": "regulated-moral",
   "metadata": {
    "papermill": {
     "duration": 0.014484,
     "end_time": "2021-03-17T17:21:53.767078",
     "exception": false,
     "start_time": "2021-03-17T17:21:53.752594",
     "status": "completed"
    },
    "tags": []
   },
   "outputs": [],
   "source": [
    "if not skip:\n",
    "    df = None\n",
    "\n",
    "    for filename in os.listdir(data_dir):\n",
    "        if filename.endswith(\".nc\") :\n",
    "            dset = xr.open_dataset(os.path.join(data_dir, filename))\n",
    "            df1 = pd.DataFrame(dset['sm'].to_series())\n",
    "            df1.reset_index(inplace=True)\n",
    "            if df is None:\n",
    "                df = df1\n",
    "            else:\n",
    "                df = df.append(df1, ignore_index=True)\n",
    "        else:\n",
    "            continue\n",
    "\n",
    "\n",
    "    df.to_csv(data_dir+file_name, index=False)"
   ]
  }
 ],
 "metadata": {
  "kernelspec": {
   "display_name": "Python 3",
   "language": "python",
   "name": "python3"
  },
  "language_info": {
   "codemirror_mode": {
    "name": "ipython",
    "version": 3
   },
   "file_extension": ".py",
   "mimetype": "text/x-python",
   "name": "python",
   "nbconvert_exporter": "python",
   "pygments_lexer": "ipython3",
   "version": "3.8.6"
  },
  "papermill": {
   "default_parameters": {},
   "duration": 4.945499,
   "end_time": "2021-03-17T17:21:54.191491",
   "environment_variables": {},
   "exception": null,
   "input_path": "/home/jovyan/work/examples/pipelines/pairs/component-library/input/input-climate-copernicus.ipynb",
   "output_path": "/home/jovyan/work/examples/pipelines/pairs/component-library/input/input-climate-copernicus.ipynb",
   "parameters": {},
   "start_time": "2021-03-17T17:21:49.245992",
   "version": "2.3.3"
  }
 },
 "nbformat": 4,
 "nbformat_minor": 5
}
