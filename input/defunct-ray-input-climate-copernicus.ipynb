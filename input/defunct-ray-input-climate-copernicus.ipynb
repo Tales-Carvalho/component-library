{
 "cells": [
  {
   "cell_type": "markdown",
   "id": "earned-share",
   "metadata": {
    "papermill": {
     "duration": 0.013187,
     "end_time": "2021-03-19T20:22:13.854586",
     "exception": false,
     "start_time": "2021-03-19T20:22:13.841399",
     "status": "completed"
    },
    "tags": []
   },
   "source": [
    "# Pulls data from the Copernicus Data Provider (European Commision) available at cds.climate.copernicus.eu\n",
    "The output is a csv file containing the requested time series.\n",
    "\n",
    "As currently downloading the complete (daily) data set is not supported due to size limitations - only sampled data for every 10th day is available\n",
    "\n",
    "To use the data set legally it is required to create an account here: https://cds.climate.copernicus.eu/\n",
    "Please then obtain your API key from your user provide and provide it as a parameter to this component\n",
    "\n",
    "WARNING: This component currently only supports local execution (not Kubeflow/Airflow)\n",
    "\n",
    "Future work  \n",
    "[ ] Download complete data set by creating multile requests and then merge the results"
   ]
  },
  {
   "cell_type": "code",
   "execution_count": null,
   "id": "compatible-athens",
   "metadata": {
    "papermill": {
     "duration": 7.954477,
     "end_time": "2021-03-19T20:22:21.817778",
     "exception": false,
     "start_time": "2021-03-19T20:22:13.863301",
     "status": "completed"
    },
    "tags": []
   },
   "outputs": [],
   "source": [
    "!pip3 install xarray==0.17.0 netcdf4==1.5.6 cdsapi==0.5.1 wget==3.2 ray==1.2.0 modin==0.9.1"
   ]
  },
  {
   "cell_type": "code",
   "execution_count": null,
   "id": "abstract-approach",
   "metadata": {
    "papermill": {
     "duration": 0.029437,
     "end_time": "2021-03-19T20:22:21.864680",
     "exception": false,
     "start_time": "2021-03-19T20:22:21.835243",
     "status": "completed"
    },
    "tags": []
   },
   "outputs": [],
   "source": [
    "# @param api key in form UID:APIKey obtained from\n",
    "# https://cds.climate.copernicus.eu/\n",
    "# @param data_dir temporal data storage for local execution\n",
    "# @param file_name csv file name\n",
    "# @param master url of master (default: local mode)"
   ]
  },
  {
   "cell_type": "code",
   "execution_count": null,
   "id": "clinical-italy",
   "metadata": {
    "papermill": {
     "duration": 0.227595,
     "end_time": "2021-03-19T20:22:22.109675",
     "exception": false,
     "start_time": "2021-03-19T20:22:21.882080",
     "status": "completed"
    },
    "tags": []
   },
   "outputs": [],
   "source": [
    "import wget\n",
    "wget.download(\n",
    "    'https://raw.githubusercontent.com/elyra-ai/' +\n",
    "    'component-library/master/claimed_utils.py'\n",
    ")"
   ]
  },
  {
   "cell_type": "code",
   "execution_count": 1,
   "id": "stunning-concert",
   "metadata": {},
   "outputs": [],
   "source": [
    "!export MODIN_OUT_OF_CORE=true"
   ]
  },
  {
   "cell_type": "code",
   "execution_count": 2,
   "id": "wooden-cargo",
   "metadata": {
    "papermill": {
     "duration": 0.775844,
     "end_time": "2021-03-19T20:22:22.904586",
     "exception": false,
     "start_time": "2021-03-19T20:22:22.128742",
     "status": "completed"
    },
    "tags": []
   },
   "outputs": [
    {
     "name": "stderr",
     "output_type": "stream",
     "text": [
      "2021-03-22 10:32:37,231\tINFO services.py:1172 -- View the Ray dashboard at \u001b[1m\u001b[32mhttp://127.0.0.1:8265\u001b[39m\u001b[22m\n",
      "WARNING:root:'PYARROW_IGNORE_TIMEZONE' environment variable was not set. It is required to set this environment variable to '1' in both driver and executor sides if you use pyarrow>=2.0.0. Koalas will set it for you but it does not work if there is a Spark context already launched.\n"
     ]
    }
   ],
   "source": [
    "import ray\n",
    "ray.init()\n",
    "import modin.pandas as pd\n",
    "import cdsapi\n",
    "import xarray as xr\n",
    "from claimed_utils import unzip\n",
    "import os\n",
    "import glob\n",
    "from pyspark import SparkContext, SparkConf\n",
    "from pyspark.sql import SparkSession\n",
    "import os\n",
    "import shutil\n",
    "import glob\n",
    "import numpy as np\n",
    "import databricks.koalas as ks\n",
    "from pyspark.sql import SparkSession\n",
    "import time"
   ]
  },
  {
   "cell_type": "code",
   "execution_count": 3,
   "id": "alert-projection",
   "metadata": {
    "papermill": {
     "duration": 0.030856,
     "end_time": "2021-03-19T20:22:22.954692",
     "exception": false,
     "start_time": "2021-03-19T20:22:22.923836",
     "status": "completed"
    },
    "tags": []
   },
   "outputs": [],
   "source": [
    "apikey = os.environ.get('api key')\n",
    "file_name = os.environ.get('file_name', 'data.csv')\n",
    "data_dir = os.environ.get('data_dir', '../../data/')\n",
    "master = os.environ.get('master', \"local[*]\")"
   ]
  },
  {
   "cell_type": "code",
   "execution_count": null,
   "id": "ambient-details",
   "metadata": {
    "papermill": {
     "duration": 0.026879,
     "end_time": "2021-03-19T20:22:23.001291",
     "exception": false,
     "start_time": "2021-03-19T20:22:22.974412",
     "status": "completed"
    },
    "tags": []
   },
   "outputs": [],
   "source": [
    "skip = False\n",
    "\n",
    "if os.path.exists(data_dir+file_name):\n",
    "    skip = True"
   ]
  },
  {
   "cell_type": "code",
   "execution_count": null,
   "id": "administrative-conservative",
   "metadata": {},
   "outputs": [],
   "source": [
    "if not skip:\n",
    "    config = SparkConf().setMaster(master).setAll([\n",
    "        ('spark.executor.memory', '8g'), \n",
    "        ('spark.driver.memory','8g'),\n",
    "        ('spark.sql.execution.arrow.pyspark.enabled', 'true')\n",
    "    ])\n",
    "    \n",
    "    sc = SparkContext.getOrCreate(config)   \n",
    "    spark = SparkSession.builder.getOrCreate()"
   ]
  },
  {
   "cell_type": "code",
   "execution_count": null,
   "id": "coated-prerequisite",
   "metadata": {
    "papermill": {
     "duration": 0.025708,
     "end_time": "2021-03-19T20:22:23.045699",
     "exception": false,
     "start_time": "2021-03-19T20:22:23.019991",
     "status": "completed"
    },
    "tags": []
   },
   "outputs": [],
   "source": [
    "if not skip:\n",
    "    with open(os.path.expanduser('~/.cdsapirc'), \"w\") as myfile:\n",
    "        myfile.write(\"url: https://cds.climate.copernicus.eu/api/v2\\n\")\n",
    "        myfile.write(\"key: \"+apikey+\"\\n\")\n",
    "        myfile.write(\"verify: 0\")"
   ]
  },
  {
   "cell_type": "code",
   "execution_count": null,
   "id": "through-natural",
   "metadata": {
    "papermill": {
     "duration": 27.69363,
     "end_time": "2021-03-19T20:22:50.757622",
     "exception": false,
     "start_time": "2021-03-19T20:22:23.063992",
     "status": "completed"
    },
    "tags": []
   },
   "outputs": [],
   "source": [
    "if not skip:\n",
    "    \n",
    "    c = cdsapi.Client()\n",
    "\n",
    "    c.retrieve(\n",
    "        'satellite-soil-moisture',\n",
    "        {\n",
    "            'variable': 'volumetric_surface_soil_moisture',\n",
    "            'type_of_sensor': 'passive',\n",
    "            'time_aggregation': 'month_average',\n",
    "            'year': [\n",
    "                '1978', '1979', '1980',\n",
    "                '1981', '1982', '1983',\n",
    "                '1984', '1985', '1986',\n",
    "                '1987', '1988', '1989',\n",
    "                '1990', '1991', '1992',\n",
    "                '1993', '1994', '1995',\n",
    "                '1996', '1997', '1998',\n",
    "                '1999', '2000', '2001',\n",
    "                '2002', '2003', '2004',\n",
    "                '2005', '2006', '2007',\n",
    "                '2008', '2009', '2010',\n",
    "                '2011', '2012', '2013',\n",
    "                '2014', '2015', '2016',\n",
    "                '2017', '2018', '2019',\n",
    "            ],\n",
    "            'month': [\n",
    "                '01', '02', '03',\n",
    "                '04', '05', '06',\n",
    "                '07', '08', '09',\n",
    "                '10', '11', '12',\n",
    "            ],\n",
    "            'day': '01',\n",
    "            'type_of_record': 'cdr',\n",
    "            'version': 'v201912.0.0',\n",
    "            'format': 'zip',\n",
    "        },\n",
    "        data_dir+'download.zip')"
   ]
  },
  {
   "cell_type": "code",
   "execution_count": null,
   "id": "restricted-paragraph",
   "metadata": {
    "papermill": {
     "duration": 0.117841,
     "end_time": "2021-03-19T20:22:50.979741",
     "exception": false,
     "start_time": "2021-03-19T20:22:50.861900",
     "status": "completed"
    },
    "tags": []
   },
   "outputs": [],
   "source": [
    "if not skip:\n",
    "    for f in glob.glob(data_dir+'*.nc'):\n",
    "        os.remove(f)"
   ]
  },
  {
   "cell_type": "code",
   "execution_count": null,
   "id": "affected-station",
   "metadata": {
    "papermill": {
     "duration": 0.917713,
     "end_time": "2021-03-19T20:22:51.998190",
     "exception": false,
     "start_time": "2021-03-19T20:22:51.080477",
     "status": "completed"
    },
    "tags": []
   },
   "outputs": [],
   "source": [
    "if not skip:\n",
    "    unzip(data_dir, data_dir+'download.zip')"
   ]
  },
  {
   "cell_type": "code",
   "execution_count": 4,
   "id": "certified-exposure",
   "metadata": {
    "papermill": {
     "duration": 2728.340431,
     "end_time": "2021-03-19T21:08:20.454593",
     "exception": false,
     "start_time": "2021-03-19T20:22:52.114162",
     "status": "completed"
    },
    "scrolled": true,
    "tags": []
   },
   "outputs": [
    {
     "name": "stderr",
     "output_type": "stream",
     "text": [
      "UserWarning: Distributing <class 'pandas.core.series.Series'> object. This may take some time.\n"
     ]
    },
    {
     "name": "stdout",
     "output_type": "stream",
     "text": [
      "Adding data from C3S-SOILMOISTURE-L3S-SSMV-PASSIVE-MONTHLY-19790201000000-TCDR-v201912.0.0.nc to data frame\n",
      "Adding data from C3S-SOILMOISTURE-L3S-SSMV-PASSIVE-MONTHLY-20041201000000-TCDR-v201912.0.0.nc to data frame\n",
      "Appending data from C3S-SOILMOISTURE-L3S-SSMV-PASSIVE-MONTHLY-20041201000000-TCDR-v201912.0.0.nc to data frame took 0.013064845988992602\n",
      "Adding data from C3S-SOILMOISTURE-L3S-SSMV-PASSIVE-MONTHLY-19960501000000-TCDR-v201912.0.0.nc to data frame\n"
     ]
    },
    {
     "name": "stderr",
     "output_type": "stream",
     "text": [
      "UserWarning: Due to https://github.com/pandas-dev/pandas/issues/35092, Pandas ignores sort=False; Modin correctly does not sort.\n"
     ]
    },
    {
     "name": "stdout",
     "output_type": "stream",
     "text": [
      "Appending data from C3S-SOILMOISTURE-L3S-SSMV-PASSIVE-MONTHLY-19960501000000-TCDR-v201912.0.0.nc to data frame took 0.04189064400270581\n",
      "Adding data from C3S-SOILMOISTURE-L3S-SSMV-PASSIVE-MONTHLY-20170401000000-TCDR-v201912.0.0.nc to data frame\n",
      "Appending data from C3S-SOILMOISTURE-L3S-SSMV-PASSIVE-MONTHLY-20170401000000-TCDR-v201912.0.0.nc to data frame took 0.03237331204582006\n",
      "Adding data from C3S-SOILMOISTURE-L3S-SSMV-PASSIVE-MONTHLY-19881001000000-TCDR-v201912.0.0.nc to data frame\n",
      "Appending data from C3S-SOILMOISTURE-L3S-SSMV-PASSIVE-MONTHLY-19881001000000-TCDR-v201912.0.0.nc to data frame took 0.08100520801963285\n",
      "Adding data from C3S-SOILMOISTURE-L3S-SSMV-PASSIVE-MONTHLY-20060301000000-TCDR-v201912.0.0.nc to data frame\n",
      "Appending data from C3S-SOILMOISTURE-L3S-SSMV-PASSIVE-MONTHLY-20060301000000-TCDR-v201912.0.0.nc to data frame took 0.09102080302545801\n",
      "Adding data from C3S-SOILMOISTURE-L3S-SSMV-PASSIVE-MONTHLY-19850701000000-TCDR-v201912.0.0.nc to data frame\n",
      "Appending data from C3S-SOILMOISTURE-L3S-SSMV-PASSIVE-MONTHLY-19850701000000-TCDR-v201912.0.0.nc to data frame took 0.1784631690243259\n",
      "Adding data from C3S-SOILMOISTURE-L3S-SSMV-PASSIVE-MONTHLY-19980301000000-TCDR-v201912.0.0.nc to data frame\n",
      "Appending data from C3S-SOILMOISTURE-L3S-SSMV-PASSIVE-MONTHLY-19980301000000-TCDR-v201912.0.0.nc to data frame took 0.16057558299507946\n",
      "Adding data from C3S-SOILMOISTURE-L3S-SSMV-PASSIVE-MONTHLY-19791001000000-TCDR-v201912.0.0.nc to data frame\n",
      "Appending data from C3S-SOILMOISTURE-L3S-SSMV-PASSIVE-MONTHLY-19791001000000-TCDR-v201912.0.0.nc to data frame took 0.12352419196395203\n",
      "Adding data from C3S-SOILMOISTURE-L3S-SSMV-PASSIVE-MONTHLY-20040201000000-TCDR-v201912.0.0.nc to data frame\n",
      "Appending data from C3S-SOILMOISTURE-L3S-SSMV-PASSIVE-MONTHLY-20040201000000-TCDR-v201912.0.0.nc to data frame took 0.13000837701838464\n",
      "Adding data from C3S-SOILMOISTURE-L3S-SSMV-PASSIVE-MONTHLY-20040801000000-TCDR-v201912.0.0.nc to data frame\n",
      "Appending data from C3S-SOILMOISTURE-L3S-SSMV-PASSIVE-MONTHLY-20040801000000-TCDR-v201912.0.0.nc to data frame took 0.14273699797922745\n",
      "Adding data from C3S-SOILMOISTURE-L3S-SSMV-PASSIVE-MONTHLY-20191201000000-TCDR-v201912.0.0.nc to data frame\n",
      "Appending data from C3S-SOILMOISTURE-L3S-SSMV-PASSIVE-MONTHLY-20191201000000-TCDR-v201912.0.0.nc to data frame took 0.15143763303058222\n",
      "Adding data from C3S-SOILMOISTURE-L3S-SSMV-PASSIVE-MONTHLY-19901001000000-TCDR-v201912.0.0.nc to data frame\n",
      "Appending data from C3S-SOILMOISTURE-L3S-SSMV-PASSIVE-MONTHLY-19901001000000-TCDR-v201912.0.0.nc to data frame took 0.13763917301548645\n",
      "Adding data from C3S-SOILMOISTURE-L3S-SSMV-PASSIVE-MONTHLY-19870801000000-TCDR-v201912.0.0.nc to data frame\n",
      "Appending data from C3S-SOILMOISTURE-L3S-SSMV-PASSIVE-MONTHLY-19870801000000-TCDR-v201912.0.0.nc to data frame took 0.13968258100794628\n",
      "Adding data from C3S-SOILMOISTURE-L3S-SSMV-PASSIVE-MONTHLY-19781201000000-TCDR-v201912.0.0.nc to data frame\n",
      "Appending data from C3S-SOILMOISTURE-L3S-SSMV-PASSIVE-MONTHLY-19781201000000-TCDR-v201912.0.0.nc to data frame took 0.14627508400008082\n",
      "Adding data from C3S-SOILMOISTURE-L3S-SSMV-PASSIVE-MONTHLY-20160401000000-TCDR-v201912.0.0.nc to data frame\n",
      "Appending data from C3S-SOILMOISTURE-L3S-SSMV-PASSIVE-MONTHLY-20160401000000-TCDR-v201912.0.0.nc to data frame took 0.17007739300606772\n",
      "Adding data from C3S-SOILMOISTURE-L3S-SSMV-PASSIVE-MONTHLY-19950701000000-TCDR-v201912.0.0.nc to data frame\n",
      "Appending data from C3S-SOILMOISTURE-L3S-SSMV-PASSIVE-MONTHLY-19950701000000-TCDR-v201912.0.0.nc to data frame took 0.17197432200191543\n",
      "Adding data from C3S-SOILMOISTURE-L3S-SSMV-PASSIVE-MONTHLY-20120301000000-TCDR-v201912.0.0.nc to data frame\n",
      "Appending data from C3S-SOILMOISTURE-L3S-SSMV-PASSIVE-MONTHLY-20120301000000-TCDR-v201912.0.0.nc to data frame took 0.18122381501598284\n",
      "Adding data from C3S-SOILMOISTURE-L3S-SSMV-PASSIVE-MONTHLY-20130801000000-TCDR-v201912.0.0.nc to data frame\n",
      "Appending data from C3S-SOILMOISTURE-L3S-SSMV-PASSIVE-MONTHLY-20130801000000-TCDR-v201912.0.0.nc to data frame took 0.19069328298792243\n",
      "Adding data from C3S-SOILMOISTURE-L3S-SSMV-PASSIVE-MONTHLY-19930101000000-TCDR-v201912.0.0.nc to data frame\n",
      "Appending data from C3S-SOILMOISTURE-L3S-SSMV-PASSIVE-MONTHLY-19930101000000-TCDR-v201912.0.0.nc to data frame took 0.20134288194822147\n",
      "Adding data from C3S-SOILMOISTURE-L3S-SSMV-PASSIVE-MONTHLY-19931001000000-TCDR-v201912.0.0.nc to data frame\n",
      "Appending data from C3S-SOILMOISTURE-L3S-SSMV-PASSIVE-MONTHLY-19931001000000-TCDR-v201912.0.0.nc to data frame took 0.20935712102800608\n",
      "Adding data from C3S-SOILMOISTURE-L3S-SSMV-PASSIVE-MONTHLY-19811201000000-TCDR-v201912.0.0.nc to data frame\n",
      "Appending data from C3S-SOILMOISTURE-L3S-SSMV-PASSIVE-MONTHLY-19811201000000-TCDR-v201912.0.0.nc to data frame took 0.21603133901953697\n",
      "Adding data from C3S-SOILMOISTURE-L3S-SSMV-PASSIVE-MONTHLY-19991201000000-TCDR-v201912.0.0.nc to data frame\n",
      "Appending data from C3S-SOILMOISTURE-L3S-SSMV-PASSIVE-MONTHLY-19991201000000-TCDR-v201912.0.0.nc to data frame took 0.22289071697741747\n",
      "Adding data from C3S-SOILMOISTURE-L3S-SSMV-PASSIVE-MONTHLY-19830901000000-TCDR-v201912.0.0.nc to data frame\n",
      "Appending data from C3S-SOILMOISTURE-L3S-SSMV-PASSIVE-MONTHLY-19830901000000-TCDR-v201912.0.0.nc to data frame took 0.21701293700607494\n",
      "Adding data from C3S-SOILMOISTURE-L3S-SSMV-PASSIVE-MONTHLY-19840701000000-TCDR-v201912.0.0.nc to data frame\n",
      "Appending data from C3S-SOILMOISTURE-L3S-SSMV-PASSIVE-MONTHLY-19840701000000-TCDR-v201912.0.0.nc to data frame took 0.23031936498591676\n",
      "Adding data from C3S-SOILMOISTURE-L3S-SSMV-PASSIVE-MONTHLY-19890601000000-TCDR-v201912.0.0.nc to data frame\n",
      "Appending data from C3S-SOILMOISTURE-L3S-SSMV-PASSIVE-MONTHLY-19890601000000-TCDR-v201912.0.0.nc to data frame took 0.2531852360116318\n",
      "Adding data from C3S-SOILMOISTURE-L3S-SSMV-PASSIVE-MONTHLY-19890701000000-TCDR-v201912.0.0.nc to data frame\n",
      "Appending data from C3S-SOILMOISTURE-L3S-SSMV-PASSIVE-MONTHLY-19890701000000-TCDR-v201912.0.0.nc to data frame took 0.2505423520342447\n",
      "Adding data from C3S-SOILMOISTURE-L3S-SSMV-PASSIVE-MONTHLY-19861001000000-TCDR-v201912.0.0.nc to data frame\n",
      "Appending data from C3S-SOILMOISTURE-L3S-SSMV-PASSIVE-MONTHLY-19861001000000-TCDR-v201912.0.0.nc to data frame took 0.2580007420037873\n",
      "Adding data from C3S-SOILMOISTURE-L3S-SSMV-PASSIVE-MONTHLY-19920601000000-TCDR-v201912.0.0.nc to data frame\n",
      "Appending data from C3S-SOILMOISTURE-L3S-SSMV-PASSIVE-MONTHLY-19920601000000-TCDR-v201912.0.0.nc to data frame took 0.2604450089856982\n",
      "Adding data from C3S-SOILMOISTURE-L3S-SSMV-PASSIVE-MONTHLY-19871201000000-TCDR-v201912.0.0.nc to data frame\n",
      "Appending data from C3S-SOILMOISTURE-L3S-SSMV-PASSIVE-MONTHLY-19871201000000-TCDR-v201912.0.0.nc to data frame took 0.7174191209487617\n",
      "Adding data from C3S-SOILMOISTURE-L3S-SSMV-PASSIVE-MONTHLY-20011001000000-TCDR-v201912.0.0.nc to data frame\n",
      "Appending data from C3S-SOILMOISTURE-L3S-SSMV-PASSIVE-MONTHLY-20011001000000-TCDR-v201912.0.0.nc to data frame took 1.667063708009664\n",
      "Adding data from C3S-SOILMOISTURE-L3S-SSMV-PASSIVE-MONTHLY-20020901000000-TCDR-v201912.0.0.nc to data frame\n",
      "Appending data from C3S-SOILMOISTURE-L3S-SSMV-PASSIVE-MONTHLY-20020901000000-TCDR-v201912.0.0.nc to data frame took 2.6613829039852135\n",
      "Adding data from C3S-SOILMOISTURE-L3S-SSMV-PASSIVE-MONTHLY-19841101000000-TCDR-v201912.0.0.nc to data frame\n",
      "Appending data from C3S-SOILMOISTURE-L3S-SSMV-PASSIVE-MONTHLY-19841101000000-TCDR-v201912.0.0.nc to data frame took 3.306300027994439\n",
      "Adding data from C3S-SOILMOISTURE-L3S-SSMV-PASSIVE-MONTHLY-19880601000000-TCDR-v201912.0.0.nc to data frame\n",
      "Appending data from C3S-SOILMOISTURE-L3S-SSMV-PASSIVE-MONTHLY-19880601000000-TCDR-v201912.0.0.nc to data frame took 6.179331701016054\n",
      "Adding data from C3S-SOILMOISTURE-L3S-SSMV-PASSIVE-MONTHLY-19981201000000-TCDR-v201912.0.0.nc to data frame\n",
      "Appending data from C3S-SOILMOISTURE-L3S-SSMV-PASSIVE-MONTHLY-19981201000000-TCDR-v201912.0.0.nc to data frame took 4.436704350984655\n",
      "Adding data from C3S-SOILMOISTURE-L3S-SSMV-PASSIVE-MONTHLY-19971101000000-TCDR-v201912.0.0.nc to data frame\n",
      "Appending data from C3S-SOILMOISTURE-L3S-SSMV-PASSIVE-MONTHLY-19971101000000-TCDR-v201912.0.0.nc to data frame took 2.9878790410002694\n",
      "Adding data from C3S-SOILMOISTURE-L3S-SSMV-PASSIVE-MONTHLY-20170501000000-TCDR-v201912.0.0.nc to data frame\n",
      "Appending data from C3S-SOILMOISTURE-L3S-SSMV-PASSIVE-MONTHLY-20170501000000-TCDR-v201912.0.0.nc to data frame took 4.892741170013323\n",
      "Adding data from C3S-SOILMOISTURE-L3S-SSMV-PASSIVE-MONTHLY-19920101000000-TCDR-v201912.0.0.nc to data frame\n",
      "Appending data from C3S-SOILMOISTURE-L3S-SSMV-PASSIVE-MONTHLY-19920101000000-TCDR-v201912.0.0.nc to data frame took 4.5018683999660425\n"
     ]
    },
    {
     "name": "stderr",
     "output_type": "stream",
     "text": [
      "2021-03-22 10:33:35,185\tINFO worker.py:1491 -- Put failed since the value was either too large or the store was full of pinned objects.\n"
     ]
    },
    {
     "ename": "ObjectStoreFullError",
     "evalue": "Failed to put object ffffffffffffffffffffffffffffffffffffffff0100000074000000 in object store because it is full. Object size is 4684559 bytes.\nThe local object store is full of objects that are still in scope and cannot be evicted. Tip: Use the `ray memory` command to list active objects in the cluster.",
     "output_type": "error",
     "traceback": [
      "\u001b[0;31m---------------------------------------------------------------------------\u001b[0m",
      "\u001b[0;31mObjectStoreFullError\u001b[0m                      Traceback (most recent call last)",
      "\u001b[0;32m<ipython-input-4-e79b2df82323>\u001b[0m in \u001b[0;36m<module>\u001b[0;34m\u001b[0m\n\u001b[1;32m      7\u001b[0m         \u001b[0;32mif\u001b[0m \u001b[0mfilename\u001b[0m\u001b[0;34m.\u001b[0m\u001b[0mendswith\u001b[0m\u001b[0;34m(\u001b[0m\u001b[0;34m\".nc\"\u001b[0m\u001b[0;34m)\u001b[0m \u001b[0;34m:\u001b[0m\u001b[0;34m\u001b[0m\u001b[0;34m\u001b[0m\u001b[0m\n\u001b[1;32m      8\u001b[0m             \u001b[0mdset\u001b[0m \u001b[0;34m=\u001b[0m \u001b[0mxr\u001b[0m\u001b[0;34m.\u001b[0m\u001b[0mopen_dataset\u001b[0m\u001b[0;34m(\u001b[0m\u001b[0mos\u001b[0m\u001b[0;34m.\u001b[0m\u001b[0mpath\u001b[0m\u001b[0;34m.\u001b[0m\u001b[0mjoin\u001b[0m\u001b[0;34m(\u001b[0m\u001b[0mdata_dir\u001b[0m\u001b[0;34m,\u001b[0m \u001b[0mfilename\u001b[0m\u001b[0;34m)\u001b[0m\u001b[0;34m)\u001b[0m\u001b[0;34m\u001b[0m\u001b[0;34m\u001b[0m\u001b[0m\n\u001b[0;32m----> 9\u001b[0;31m             \u001b[0mdf1\u001b[0m \u001b[0;34m=\u001b[0m \u001b[0mpd\u001b[0m\u001b[0;34m.\u001b[0m\u001b[0mDataFrame\u001b[0m\u001b[0;34m(\u001b[0m\u001b[0mdset\u001b[0m\u001b[0;34m[\u001b[0m\u001b[0;34m'sm'\u001b[0m\u001b[0;34m]\u001b[0m\u001b[0;34m.\u001b[0m\u001b[0mto_series\u001b[0m\u001b[0;34m(\u001b[0m\u001b[0;34m)\u001b[0m\u001b[0;34m)\u001b[0m\u001b[0;34m\u001b[0m\u001b[0;34m\u001b[0m\u001b[0m\n\u001b[0m\u001b[1;32m     10\u001b[0m             \u001b[0mdf1\u001b[0m\u001b[0;34m.\u001b[0m\u001b[0mreset_index\u001b[0m\u001b[0;34m(\u001b[0m\u001b[0minplace\u001b[0m\u001b[0;34m=\u001b[0m\u001b[0;32mTrue\u001b[0m\u001b[0;34m)\u001b[0m\u001b[0;34m\u001b[0m\u001b[0;34m\u001b[0m\u001b[0m\n\u001b[1;32m     11\u001b[0m             \u001b[0mprint\u001b[0m\u001b[0;34m(\u001b[0m\u001b[0;34m'Adding data from {} to data frame'\u001b[0m\u001b[0;34m.\u001b[0m\u001b[0mformat\u001b[0m\u001b[0;34m(\u001b[0m\u001b[0mfilename\u001b[0m\u001b[0;34m)\u001b[0m\u001b[0;34m)\u001b[0m\u001b[0;34m\u001b[0m\u001b[0;34m\u001b[0m\u001b[0m\n",
      "\u001b[0;32m/opt/conda/lib/python3.8/site-packages/modin/pandas/dataframe.py\u001b[0m in \u001b[0;36m__init__\u001b[0;34m(self, data, index, columns, dtype, copy, query_compiler)\u001b[0m\n\u001b[1;32m    154\u001b[0m                 \u001b[0mdata\u001b[0m\u001b[0;34m=\u001b[0m\u001b[0mdata\u001b[0m\u001b[0;34m,\u001b[0m \u001b[0mindex\u001b[0m\u001b[0;34m=\u001b[0m\u001b[0mindex\u001b[0m\u001b[0;34m,\u001b[0m \u001b[0mcolumns\u001b[0m\u001b[0;34m=\u001b[0m\u001b[0mcolumns\u001b[0m\u001b[0;34m,\u001b[0m \u001b[0mdtype\u001b[0m\u001b[0;34m=\u001b[0m\u001b[0mdtype\u001b[0m\u001b[0;34m,\u001b[0m \u001b[0mcopy\u001b[0m\u001b[0;34m=\u001b[0m\u001b[0mcopy\u001b[0m\u001b[0;34m\u001b[0m\u001b[0;34m\u001b[0m\u001b[0m\n\u001b[1;32m    155\u001b[0m             )\n\u001b[0;32m--> 156\u001b[0;31m             \u001b[0mself\u001b[0m\u001b[0;34m.\u001b[0m\u001b[0m_query_compiler\u001b[0m \u001b[0;34m=\u001b[0m \u001b[0mfrom_pandas\u001b[0m\u001b[0;34m(\u001b[0m\u001b[0mpandas_df\u001b[0m\u001b[0;34m)\u001b[0m\u001b[0;34m.\u001b[0m\u001b[0m_query_compiler\u001b[0m\u001b[0;34m\u001b[0m\u001b[0;34m\u001b[0m\u001b[0m\n\u001b[0m\u001b[1;32m    157\u001b[0m         \u001b[0;32melse\u001b[0m\u001b[0;34m:\u001b[0m\u001b[0;34m\u001b[0m\u001b[0;34m\u001b[0m\u001b[0m\n\u001b[1;32m    158\u001b[0m             \u001b[0mself\u001b[0m\u001b[0;34m.\u001b[0m\u001b[0m_query_compiler\u001b[0m \u001b[0;34m=\u001b[0m \u001b[0mquery_compiler\u001b[0m\u001b[0;34m\u001b[0m\u001b[0;34m\u001b[0m\u001b[0m\n",
      "\u001b[0;32m/opt/conda/lib/python3.8/site-packages/modin/pandas/utils.py\u001b[0m in \u001b[0;36mfrom_pandas\u001b[0;34m(df)\u001b[0m\n\u001b[1;32m     61\u001b[0m     \u001b[0;32mfrom\u001b[0m \u001b[0;34m.\u001b[0m\u001b[0mdataframe\u001b[0m \u001b[0;32mimport\u001b[0m \u001b[0mDataFrame\u001b[0m\u001b[0;34m\u001b[0m\u001b[0;34m\u001b[0m\u001b[0m\n\u001b[1;32m     62\u001b[0m \u001b[0;34m\u001b[0m\u001b[0m\n\u001b[0;32m---> 63\u001b[0;31m     \u001b[0;32mreturn\u001b[0m \u001b[0mDataFrame\u001b[0m\u001b[0;34m(\u001b[0m\u001b[0mquery_compiler\u001b[0m\u001b[0;34m=\u001b[0m\u001b[0mEngineDispatcher\u001b[0m\u001b[0;34m.\u001b[0m\u001b[0mfrom_pandas\u001b[0m\u001b[0;34m(\u001b[0m\u001b[0mdf\u001b[0m\u001b[0;34m)\u001b[0m\u001b[0;34m)\u001b[0m\u001b[0;34m\u001b[0m\u001b[0;34m\u001b[0m\u001b[0m\n\u001b[0m\u001b[1;32m     64\u001b[0m \u001b[0;34m\u001b[0m\u001b[0m\n\u001b[1;32m     65\u001b[0m \u001b[0;34m\u001b[0m\u001b[0m\n",
      "\u001b[0;32m/opt/conda/lib/python3.8/site-packages/modin/data_management/factories/dispatcher.py\u001b[0m in \u001b[0;36mfrom_pandas\u001b[0;34m(cls, df)\u001b[0m\n\u001b[1;32m     86\u001b[0m     \u001b[0;34m@\u001b[0m\u001b[0mclassmethod\u001b[0m\u001b[0;34m\u001b[0m\u001b[0;34m\u001b[0m\u001b[0m\n\u001b[1;32m     87\u001b[0m     \u001b[0;32mdef\u001b[0m \u001b[0mfrom_pandas\u001b[0m\u001b[0;34m(\u001b[0m\u001b[0mcls\u001b[0m\u001b[0;34m,\u001b[0m \u001b[0mdf\u001b[0m\u001b[0;34m)\u001b[0m\u001b[0;34m:\u001b[0m\u001b[0;34m\u001b[0m\u001b[0;34m\u001b[0m\u001b[0m\n\u001b[0;32m---> 88\u001b[0;31m         \u001b[0;32mreturn\u001b[0m \u001b[0mcls\u001b[0m\u001b[0;34m.\u001b[0m\u001b[0m__engine\u001b[0m\u001b[0;34m.\u001b[0m\u001b[0m_from_pandas\u001b[0m\u001b[0;34m(\u001b[0m\u001b[0mdf\u001b[0m\u001b[0;34m)\u001b[0m\u001b[0;34m\u001b[0m\u001b[0;34m\u001b[0m\u001b[0m\n\u001b[0m\u001b[1;32m     89\u001b[0m \u001b[0;34m\u001b[0m\u001b[0m\n\u001b[1;32m     90\u001b[0m     \u001b[0;34m@\u001b[0m\u001b[0mclassmethod\u001b[0m\u001b[0;34m\u001b[0m\u001b[0;34m\u001b[0m\u001b[0m\n",
      "\u001b[0;32m/opt/conda/lib/python3.8/site-packages/modin/data_management/factories/factories.py\u001b[0m in \u001b[0;36m_from_pandas\u001b[0;34m(cls, df)\u001b[0m\n\u001b[1;32m     69\u001b[0m     \u001b[0;34m@\u001b[0m\u001b[0mclassmethod\u001b[0m\u001b[0;34m\u001b[0m\u001b[0;34m\u001b[0m\u001b[0m\n\u001b[1;32m     70\u001b[0m     \u001b[0;32mdef\u001b[0m \u001b[0m_from_pandas\u001b[0m\u001b[0;34m(\u001b[0m\u001b[0mcls\u001b[0m\u001b[0;34m,\u001b[0m \u001b[0mdf\u001b[0m\u001b[0;34m)\u001b[0m\u001b[0;34m:\u001b[0m\u001b[0;34m\u001b[0m\u001b[0;34m\u001b[0m\u001b[0m\n\u001b[0;32m---> 71\u001b[0;31m         \u001b[0;32mreturn\u001b[0m \u001b[0mcls\u001b[0m\u001b[0;34m.\u001b[0m\u001b[0mio_cls\u001b[0m\u001b[0;34m.\u001b[0m\u001b[0mfrom_pandas\u001b[0m\u001b[0;34m(\u001b[0m\u001b[0mdf\u001b[0m\u001b[0;34m)\u001b[0m\u001b[0;34m\u001b[0m\u001b[0;34m\u001b[0m\u001b[0m\n\u001b[0m\u001b[1;32m     72\u001b[0m \u001b[0;34m\u001b[0m\u001b[0m\n\u001b[1;32m     73\u001b[0m     \u001b[0;34m@\u001b[0m\u001b[0mclassmethod\u001b[0m\u001b[0;34m\u001b[0m\u001b[0;34m\u001b[0m\u001b[0m\n",
      "\u001b[0;32m/opt/conda/lib/python3.8/site-packages/modin/engines/base/io/io.py\u001b[0m in \u001b[0;36mfrom_pandas\u001b[0;34m(cls, df)\u001b[0m\n\u001b[1;32m     29\u001b[0m     \u001b[0;34m@\u001b[0m\u001b[0mclassmethod\u001b[0m\u001b[0;34m\u001b[0m\u001b[0;34m\u001b[0m\u001b[0m\n\u001b[1;32m     30\u001b[0m     \u001b[0;32mdef\u001b[0m \u001b[0mfrom_pandas\u001b[0m\u001b[0;34m(\u001b[0m\u001b[0mcls\u001b[0m\u001b[0;34m,\u001b[0m \u001b[0mdf\u001b[0m\u001b[0;34m)\u001b[0m\u001b[0;34m:\u001b[0m\u001b[0;34m\u001b[0m\u001b[0;34m\u001b[0m\u001b[0m\n\u001b[0;32m---> 31\u001b[0;31m         \u001b[0;32mreturn\u001b[0m \u001b[0mcls\u001b[0m\u001b[0;34m.\u001b[0m\u001b[0mquery_compiler_cls\u001b[0m\u001b[0;34m.\u001b[0m\u001b[0mfrom_pandas\u001b[0m\u001b[0;34m(\u001b[0m\u001b[0mdf\u001b[0m\u001b[0;34m,\u001b[0m \u001b[0mcls\u001b[0m\u001b[0;34m.\u001b[0m\u001b[0mframe_cls\u001b[0m\u001b[0;34m)\u001b[0m\u001b[0;34m\u001b[0m\u001b[0;34m\u001b[0m\u001b[0m\n\u001b[0m\u001b[1;32m     32\u001b[0m \u001b[0;34m\u001b[0m\u001b[0m\n\u001b[1;32m     33\u001b[0m     \u001b[0;34m@\u001b[0m\u001b[0mclassmethod\u001b[0m\u001b[0;34m\u001b[0m\u001b[0;34m\u001b[0m\u001b[0m\n",
      "\u001b[0;32m/opt/conda/lib/python3.8/site-packages/modin/backends/pandas/query_compiler.py\u001b[0m in \u001b[0;36mfrom_pandas\u001b[0;34m(cls, df, data_cls)\u001b[0m\n\u001b[1;32m    210\u001b[0m     \u001b[0;34m@\u001b[0m\u001b[0mclassmethod\u001b[0m\u001b[0;34m\u001b[0m\u001b[0;34m\u001b[0m\u001b[0m\n\u001b[1;32m    211\u001b[0m     \u001b[0;32mdef\u001b[0m \u001b[0mfrom_pandas\u001b[0m\u001b[0;34m(\u001b[0m\u001b[0mcls\u001b[0m\u001b[0;34m,\u001b[0m \u001b[0mdf\u001b[0m\u001b[0;34m,\u001b[0m \u001b[0mdata_cls\u001b[0m\u001b[0;34m)\u001b[0m\u001b[0;34m:\u001b[0m\u001b[0;34m\u001b[0m\u001b[0;34m\u001b[0m\u001b[0m\n\u001b[0;32m--> 212\u001b[0;31m         \u001b[0;32mreturn\u001b[0m \u001b[0mcls\u001b[0m\u001b[0;34m(\u001b[0m\u001b[0mdata_cls\u001b[0m\u001b[0;34m.\u001b[0m\u001b[0mfrom_pandas\u001b[0m\u001b[0;34m(\u001b[0m\u001b[0mdf\u001b[0m\u001b[0;34m)\u001b[0m\u001b[0;34m)\u001b[0m\u001b[0;34m\u001b[0m\u001b[0;34m\u001b[0m\u001b[0m\n\u001b[0m\u001b[1;32m    213\u001b[0m \u001b[0;34m\u001b[0m\u001b[0m\n\u001b[1;32m    214\u001b[0m     \u001b[0;34m@\u001b[0m\u001b[0mclassmethod\u001b[0m\u001b[0;34m\u001b[0m\u001b[0;34m\u001b[0m\u001b[0m\n",
      "\u001b[0;32m/opt/conda/lib/python3.8/site-packages/modin/engines/base/frame/data.py\u001b[0m in \u001b[0;36mfrom_pandas\u001b[0;34m(cls, df)\u001b[0m\n\u001b[1;32m   2025\u001b[0m         \u001b[0mnew_columns\u001b[0m \u001b[0;34m=\u001b[0m \u001b[0mdf\u001b[0m\u001b[0;34m.\u001b[0m\u001b[0mcolumns\u001b[0m\u001b[0;34m\u001b[0m\u001b[0;34m\u001b[0m\u001b[0m\n\u001b[1;32m   2026\u001b[0m         \u001b[0mnew_dtypes\u001b[0m \u001b[0;34m=\u001b[0m \u001b[0mdf\u001b[0m\u001b[0;34m.\u001b[0m\u001b[0mdtypes\u001b[0m\u001b[0;34m\u001b[0m\u001b[0;34m\u001b[0m\u001b[0m\n\u001b[0;32m-> 2027\u001b[0;31m         \u001b[0mnew_frame\u001b[0m\u001b[0;34m,\u001b[0m \u001b[0mnew_lengths\u001b[0m\u001b[0;34m,\u001b[0m \u001b[0mnew_widths\u001b[0m \u001b[0;34m=\u001b[0m \u001b[0mcls\u001b[0m\u001b[0;34m.\u001b[0m\u001b[0m_frame_mgr_cls\u001b[0m\u001b[0;34m.\u001b[0m\u001b[0mfrom_pandas\u001b[0m\u001b[0;34m(\u001b[0m\u001b[0mdf\u001b[0m\u001b[0;34m,\u001b[0m \u001b[0;32mTrue\u001b[0m\u001b[0;34m)\u001b[0m\u001b[0;34m\u001b[0m\u001b[0;34m\u001b[0m\u001b[0m\n\u001b[0m\u001b[1;32m   2028\u001b[0m         return cls(\n\u001b[1;32m   2029\u001b[0m             \u001b[0mnew_frame\u001b[0m\u001b[0;34m,\u001b[0m\u001b[0;34m\u001b[0m\u001b[0;34m\u001b[0m\u001b[0m\n",
      "\u001b[0;32m/opt/conda/lib/python3.8/site-packages/modin/engines/base/frame/partition_manager.py\u001b[0m in \u001b[0;36mfrom_pandas\u001b[0;34m(cls, df, return_dims)\u001b[0m\n\u001b[1;32m    644\u001b[0m         \u001b[0;32melse\u001b[0m\u001b[0;34m:\u001b[0m\u001b[0;34m\u001b[0m\u001b[0;34m\u001b[0m\u001b[0m\n\u001b[1;32m    645\u001b[0m             \u001b[0mpbar\u001b[0m \u001b[0;34m=\u001b[0m \u001b[0;32mNone\u001b[0m\u001b[0;34m\u001b[0m\u001b[0;34m\u001b[0m\u001b[0m\n\u001b[0;32m--> 646\u001b[0;31m         parts = [\n\u001b[0m\u001b[1;32m    647\u001b[0m             [\n\u001b[1;32m    648\u001b[0m                 update_bar(\n",
      "\u001b[0;32m/opt/conda/lib/python3.8/site-packages/modin/engines/base/frame/partition_manager.py\u001b[0m in \u001b[0;36m<listcomp>\u001b[0;34m(.0)\u001b[0m\n\u001b[1;32m    645\u001b[0m             \u001b[0mpbar\u001b[0m \u001b[0;34m=\u001b[0m \u001b[0;32mNone\u001b[0m\u001b[0;34m\u001b[0m\u001b[0;34m\u001b[0m\u001b[0m\n\u001b[1;32m    646\u001b[0m         parts = [\n\u001b[0;32m--> 647\u001b[0;31m             [\n\u001b[0m\u001b[1;32m    648\u001b[0m                 update_bar(\n\u001b[1;32m    649\u001b[0m                     \u001b[0mpbar\u001b[0m\u001b[0;34m,\u001b[0m\u001b[0;34m\u001b[0m\u001b[0;34m\u001b[0m\u001b[0m\n",
      "\u001b[0;32m/opt/conda/lib/python3.8/site-packages/modin/engines/base/frame/partition_manager.py\u001b[0m in \u001b[0;36m<listcomp>\u001b[0;34m(.0)\u001b[0m\n\u001b[1;32m    648\u001b[0m                 update_bar(\n\u001b[1;32m    649\u001b[0m                     \u001b[0mpbar\u001b[0m\u001b[0;34m,\u001b[0m\u001b[0;34m\u001b[0m\u001b[0;34m\u001b[0m\u001b[0m\n\u001b[0;32m--> 650\u001b[0;31m                     put_func(\n\u001b[0m\u001b[1;32m    651\u001b[0m                         \u001b[0mdf\u001b[0m\u001b[0;34m.\u001b[0m\u001b[0miloc\u001b[0m\u001b[0;34m[\u001b[0m\u001b[0mi\u001b[0m \u001b[0;34m:\u001b[0m \u001b[0mi\u001b[0m \u001b[0;34m+\u001b[0m \u001b[0mrow_chunksize\u001b[0m\u001b[0;34m,\u001b[0m \u001b[0mj\u001b[0m \u001b[0;34m:\u001b[0m \u001b[0mj\u001b[0m \u001b[0;34m+\u001b[0m \u001b[0mcol_chunksize\u001b[0m\u001b[0;34m]\u001b[0m\u001b[0;34m.\u001b[0m\u001b[0mcopy\u001b[0m\u001b[0;34m(\u001b[0m\u001b[0;34m)\u001b[0m\u001b[0;34m\u001b[0m\u001b[0;34m\u001b[0m\u001b[0m\n\u001b[1;32m    652\u001b[0m                     ),\n",
      "\u001b[0;32m/opt/conda/lib/python3.8/site-packages/modin/engines/ray/pandas_on_ray/frame/partition.py\u001b[0m in \u001b[0;36mput\u001b[0;34m(cls, obj)\u001b[0m\n\u001b[1;32m    157\u001b[0m             \u001b[0mA\u001b[0m\u001b[0;31m \u001b[0m\u001b[0;31m`\u001b[0m\u001b[0mRayRemotePartition\u001b[0m\u001b[0;31m`\u001b[0m \u001b[0mobject\u001b[0m\u001b[0;34m.\u001b[0m\u001b[0;34m\u001b[0m\u001b[0;34m\u001b[0m\u001b[0m\n\u001b[1;32m    158\u001b[0m         \"\"\"\n\u001b[0;32m--> 159\u001b[0;31m         \u001b[0;32mreturn\u001b[0m \u001b[0mPandasOnRayFramePartition\u001b[0m\u001b[0;34m(\u001b[0m\u001b[0mray\u001b[0m\u001b[0;34m.\u001b[0m\u001b[0mput\u001b[0m\u001b[0;34m(\u001b[0m\u001b[0mobj\u001b[0m\u001b[0;34m)\u001b[0m\u001b[0;34m,\u001b[0m \u001b[0mlen\u001b[0m\u001b[0;34m(\u001b[0m\u001b[0mobj\u001b[0m\u001b[0;34m.\u001b[0m\u001b[0mindex\u001b[0m\u001b[0;34m)\u001b[0m\u001b[0;34m,\u001b[0m \u001b[0mlen\u001b[0m\u001b[0;34m(\u001b[0m\u001b[0mobj\u001b[0m\u001b[0;34m.\u001b[0m\u001b[0mcolumns\u001b[0m\u001b[0;34m)\u001b[0m\u001b[0;34m)\u001b[0m\u001b[0;34m\u001b[0m\u001b[0;34m\u001b[0m\u001b[0m\n\u001b[0m\u001b[1;32m    160\u001b[0m \u001b[0;34m\u001b[0m\u001b[0m\n\u001b[1;32m    161\u001b[0m     \u001b[0;34m@\u001b[0m\u001b[0mclassmethod\u001b[0m\u001b[0;34m\u001b[0m\u001b[0;34m\u001b[0m\u001b[0m\n",
      "\u001b[0;32m/opt/conda/lib/python3.8/site-packages/ray/_private/client_mode_hook.py\u001b[0m in \u001b[0;36mwrapper\u001b[0;34m(*args, **kwargs)\u001b[0m\n\u001b[1;32m     45\u001b[0m         \u001b[0;32mif\u001b[0m \u001b[0mclient_mode_enabled\u001b[0m \u001b[0;32mand\u001b[0m \u001b[0m_client_hook_enabled\u001b[0m\u001b[0;34m:\u001b[0m\u001b[0;34m\u001b[0m\u001b[0;34m\u001b[0m\u001b[0m\n\u001b[1;32m     46\u001b[0m             \u001b[0;32mreturn\u001b[0m \u001b[0mgetattr\u001b[0m\u001b[0;34m(\u001b[0m\u001b[0mray\u001b[0m\u001b[0;34m,\u001b[0m \u001b[0mfunc\u001b[0m\u001b[0;34m.\u001b[0m\u001b[0m__name__\u001b[0m\u001b[0;34m)\u001b[0m\u001b[0;34m(\u001b[0m\u001b[0;34m*\u001b[0m\u001b[0margs\u001b[0m\u001b[0;34m,\u001b[0m \u001b[0;34m**\u001b[0m\u001b[0mkwargs\u001b[0m\u001b[0;34m)\u001b[0m\u001b[0;34m\u001b[0m\u001b[0;34m\u001b[0m\u001b[0m\n\u001b[0;32m---> 47\u001b[0;31m         \u001b[0;32mreturn\u001b[0m \u001b[0mfunc\u001b[0m\u001b[0;34m(\u001b[0m\u001b[0;34m*\u001b[0m\u001b[0margs\u001b[0m\u001b[0;34m,\u001b[0m \u001b[0;34m**\u001b[0m\u001b[0mkwargs\u001b[0m\u001b[0;34m)\u001b[0m\u001b[0;34m\u001b[0m\u001b[0;34m\u001b[0m\u001b[0m\n\u001b[0m\u001b[1;32m     48\u001b[0m \u001b[0;34m\u001b[0m\u001b[0m\n\u001b[1;32m     49\u001b[0m     \u001b[0;32mreturn\u001b[0m \u001b[0mwrapper\u001b[0m\u001b[0;34m\u001b[0m\u001b[0;34m\u001b[0m\u001b[0m\n",
      "\u001b[0;32m/opt/conda/lib/python3.8/site-packages/ray/worker.py\u001b[0m in \u001b[0;36mput\u001b[0;34m(value)\u001b[0m\n\u001b[1;32m   1487\u001b[0m     \u001b[0;32mwith\u001b[0m \u001b[0mprofiling\u001b[0m\u001b[0;34m.\u001b[0m\u001b[0mprofile\u001b[0m\u001b[0;34m(\u001b[0m\u001b[0;34m\"ray.put\"\u001b[0m\u001b[0;34m)\u001b[0m\u001b[0;34m:\u001b[0m\u001b[0;34m\u001b[0m\u001b[0;34m\u001b[0m\u001b[0m\n\u001b[1;32m   1488\u001b[0m         \u001b[0;32mtry\u001b[0m\u001b[0;34m:\u001b[0m\u001b[0;34m\u001b[0m\u001b[0;34m\u001b[0m\u001b[0m\n\u001b[0;32m-> 1489\u001b[0;31m             \u001b[0mobject_ref\u001b[0m \u001b[0;34m=\u001b[0m \u001b[0mworker\u001b[0m\u001b[0;34m.\u001b[0m\u001b[0mput_object\u001b[0m\u001b[0;34m(\u001b[0m\u001b[0mvalue\u001b[0m\u001b[0;34m)\u001b[0m\u001b[0;34m\u001b[0m\u001b[0;34m\u001b[0m\u001b[0m\n\u001b[0m\u001b[1;32m   1490\u001b[0m         \u001b[0;32mexcept\u001b[0m \u001b[0mObjectStoreFullError\u001b[0m\u001b[0;34m:\u001b[0m\u001b[0;34m\u001b[0m\u001b[0;34m\u001b[0m\u001b[0m\n\u001b[1;32m   1491\u001b[0m             logger.info(\n",
      "\u001b[0;32m/opt/conda/lib/python3.8/site-packages/ray/worker.py\u001b[0m in \u001b[0;36mput_object\u001b[0;34m(self, value, object_ref)\u001b[0m\n\u001b[1;32m    275\u001b[0m         \u001b[0;31m# reference counter.\u001b[0m\u001b[0;34m\u001b[0m\u001b[0;34m\u001b[0m\u001b[0;34m\u001b[0m\u001b[0m\n\u001b[1;32m    276\u001b[0m         return ray.ObjectRef(\n\u001b[0;32m--> 277\u001b[0;31m             self.core_worker.put_serialized_object(\n\u001b[0m\u001b[1;32m    278\u001b[0m                 serialized_value, object_ref=object_ref))\n\u001b[1;32m    279\u001b[0m \u001b[0;34m\u001b[0m\u001b[0m\n",
      "\u001b[0;32mpython/ray/_raylet.pyx\u001b[0m in \u001b[0;36mray._raylet.CoreWorker.put_serialized_object\u001b[0;34m()\u001b[0m\n",
      "\u001b[0;32mpython/ray/_raylet.pyx\u001b[0m in \u001b[0;36mray._raylet.CoreWorker._create_put_buffer\u001b[0;34m()\u001b[0m\n",
      "\u001b[0;32mpython/ray/_raylet.pyx\u001b[0m in \u001b[0;36mray._raylet.check_status\u001b[0;34m()\u001b[0m\n",
      "\u001b[0;31mObjectStoreFullError\u001b[0m: Failed to put object ffffffffffffffffffffffffffffffffffffffff0100000074000000 in object store because it is full. Object size is 4684559 bytes.\nThe local object store is full of objects that are still in scope and cannot be evicted. Tip: Use the `ray memory` command to list active objects in the cluster."
     ]
    }
   ],
   "source": [
    "skip = False\n",
    "\n",
    "if not skip:\n",
    "    df = None\n",
    "\n",
    "    for filename in os.listdir(data_dir):\n",
    "        if filename.endswith(\".nc\") :\n",
    "            dset = xr.open_dataset(os.path.join(data_dir, filename))\n",
    "            df1 = pd.DataFrame(dset['sm'].to_series())\n",
    "            df1.reset_index(inplace=True)\n",
    "            print('Adding data from {} to data frame'.format(filename))\n",
    "            if df is None:\n",
    "                df = df1\n",
    "            else:\n",
    "                start = time.perf_counter()\n",
    "                df = df.append(df1, ignore_index=True)\n",
    "                print('Appending data from {} to data frame took {}'.format(filename, time.perf_counter()-start))\n",
    "        else:\n",
    "            continue\n",
    "\n",
    "\n",
    "    df.to_csv(data_dir+file_name, index=False)"
   ]
  },
  {
   "cell_type": "code",
   "execution_count": null,
   "id": "prescription-farming",
   "metadata": {},
   "outputs": [],
   "source": [
    "skip = False\n",
    "if not skip:\n",
    "    df_list = []\n",
    "\n",
    "    for filename in os.listdir(data_dir):\n",
    "        if filename.endswith(\".nc\") :\n",
    "            dset = xr.open_dataset(os.path.join(data_dir, filename))\n",
    "            df = pd.DataFrame(dset['sm'].to_series())\n",
    "            df.reset_index(inplace=True)\n",
    "            df_list.append(df)\n",
    "            print('Adding data from {} to data frame'.format(filename))\n",
    "        else:\n",
    "            continue\n",
    "\n",
    "    df = pd.concat(df_list)\n",
    "    df.to_csv(data_dir+file_name, index=False) "
   ]
  },
  {
   "cell_type": "code",
   "execution_count": null,
   "id": "sharing-evaluation",
   "metadata": {},
   "outputs": [],
   "source": [
    "if not skip:\n",
    "    df_list = []\n",
    "\n",
    "    for filename in os.listdir(data_dir):\n",
    "        if filename.endswith(\".nc\") :\n",
    "            dset = xr.open_dataset(os.path.join(data_dir, filename))\n",
    "            df = pd.DataFrame(dset['sm'].to_series())\n",
    "            df.reset_index(inplace=True)\n",
    "            df_list.append(df)\n",
    "            print('Adding data from {} to data frame'.format(filename))\n",
    "        else:\n",
    "            continue\n",
    "\n",
    "    df = pd.concat(df_list)\n",
    "    df.to_csv(data_dir+file_name, index=False) "
   ]
  },
  {
   "cell_type": "code",
   "execution_count": null,
   "id": "burning-economics",
   "metadata": {
    "scrolled": true,
    "tags": []
   },
   "outputs": [],
   "source": [
    "if not skip:\n",
    "    df = None\n",
    "\n",
    "    \n",
    "    for filename in os.listdir(data_dir):\n",
    "        if filename.endswith(\".nc\") :\n",
    "            dset = xr.open_dataset(os.path.join(data_dir, filename))\n",
    "            df1 = pd.DataFrame(dset['sm'].to_series())\n",
    "            df1.reset_index(inplace=True)\n",
    "            df1 = spark.createDataFrame(df1)\n",
    "            df1 = df1.to_koalas()\n",
    "\n",
    "            print('Adding data from {} to data frame'.format(filename))\n",
    "            if df is None:\n",
    "                df = df1\n",
    "            else:\n",
    "                start = time.perf_counter()\n",
    "                df = df.append(df1, ignore_index=True)\n",
    "                print('Appending data from {} to data frame took {}'.format(filename, time.perf_counter()-start))\n",
    "        else:\n",
    "            continue\n",
    "\n",
    "\n",
    "    df.to_csv(data_dir+file_name, index=False)"
   ]
  },
  {
   "cell_type": "code",
   "execution_count": null,
   "id": "documented-period",
   "metadata": {},
   "outputs": [],
   "source": []
  }
 ],
 "metadata": {
  "kernelspec": {
   "display_name": "Python 3",
   "language": "python",
   "name": "python3"
  },
  "language_info": {
   "codemirror_mode": {
    "name": "ipython",
    "version": 3
   },
   "file_extension": ".py",
   "mimetype": "text/x-python",
   "name": "python",
   "nbconvert_exporter": "python",
   "pygments_lexer": "ipython3",
   "version": "3.8.6"
  },
  "papermill": {
   "default_parameters": {},
   "duration": 2768.322416,
   "end_time": "2021-03-19T21:08:21.265517",
   "environment_variables": {},
   "exception": null,
   "input_path": "/home/jovyan/work/examples/pipelines/pairs/component-library/input/input-climate-copernicus.ipynb",
   "output_path": "/home/jovyan/work/examples/pipelines/pairs/component-library/input/input-climate-copernicus.ipynb",
   "parameters": {},
   "start_time": "2021-03-19T20:22:12.943101",
   "version": "2.3.3"
  }
 },
 "nbformat": 4,
 "nbformat_minor": 5
}
