{
 "cells": [
  {
   "cell_type": "code",
   "execution_count": null,
   "id": "stainless-purpose",
   "metadata": {},
   "outputs": [],
   "source": [
    "import os\n",
    "import os.path\n",
    "from io import BytesIO\n",
    "from minio import Minio"
   ]
  },
  {
   "cell_type": "code",
   "execution_count": null,
   "id": "defensive-dryer",
   "metadata": {},
   "outputs": [],
   "source": [
    "# @param checkpoint_ip minio endpoint\n",
    "# @param checkpoint_user minio user\n",
    "# @param checkpoint_pass minio pw\n",
    "# @param checkpoint_bucket minio bucket\n",
    "# @param asset_name"
   ]
  },
  {
   "cell_type": "code",
   "execution_count": null,
   "id": "tired-access",
   "metadata": {},
   "outputs": [],
   "source": [
    "checkpoint_ip = os.environ.get('checkpoint_ip')\n",
    "checkpoint_user = os.environ.get('checkpoint_user', 'minio')\n",
    "checkpoint_pass = os.environ.get('checkpoint_pass', 'minio123')\n",
    "checkpoint_bucket = os.environ.get('checkpoint_bucket', 'checkpoint')\n",
    "asset_name = os.environ.get('asset_name')"
   ]
  },
  {
   "cell_type": "code",
   "execution_count": null,
   "id": "bound-tuning",
   "metadata": {
    "tags": []
   },
   "outputs": [],
   "source": [
    "client = Minio(checkpoint_ip, checkpoint_user, checkpoint_pass, secure=False)\n",
    "\n",
    "objects = client.list_objects(checkpoint_bucket)\n",
    "for obj in objects:\n",
    "    if asset_name == obj.object_name:\n",
    "        client.fget_object(checkpoint_bucket, asset_name, asset_name)\n",
    "        break"
   ]
  }
 ],
 "metadata": {
  "kernelspec": {
   "display_name": "Python 3",
   "language": "python",
   "name": "python3"
  },
  "language_info": {
   "codemirror_mode": {
    "name": "ipython",
    "version": 3
   },
   "file_extension": ".py",
   "mimetype": "text/x-python",
   "name": "python",
   "nbconvert_exporter": "python",
   "pygments_lexer": "ipython3",
   "version": "3.8.6"
  }
 },
 "nbformat": 4,
 "nbformat_minor": 5
}
