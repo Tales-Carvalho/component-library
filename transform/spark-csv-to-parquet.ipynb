{
 "cells": [
  {
   "cell_type": "markdown",
   "id": "considerable-lebanon",
   "metadata": {
    "papermill": {
     "duration": 0.005346,
     "end_time": "2021-03-17T17:21:55.111968",
     "exception": false,
     "start_time": "2021-03-17T17:21:55.106622",
     "status": "completed"
    },
    "tags": []
   },
   "source": [
    "# Converts a CSV file with header to parquet using ApacheSpark"
   ]
  },
  {
   "cell_type": "code",
   "execution_count": 1,
   "id": "stopped-integrity",
   "metadata": {
    "execution": {
     "iopub.execute_input": "2021-03-17T17:21:55.131164Z",
     "iopub.status.busy": "2021-03-17T17:21:55.130360Z",
     "iopub.status.idle": "2021-03-17T17:21:57.568646Z",
     "shell.execute_reply": "2021-03-17T17:21:57.568131Z"
    },
    "papermill": {
     "duration": 2.451598,
     "end_time": "2021-03-17T17:21:57.568763",
     "exception": false,
     "start_time": "2021-03-17T17:21:55.117165",
     "status": "completed"
    },
    "tags": []
   },
   "outputs": [
    {
     "name": "stdout",
     "output_type": "stream",
     "text": [
      "Requirement already satisfied: pyspark==3.1.1 in /opt/conda/lib/python3.8/site-packages (3.1.1)\r\n",
      "Requirement already satisfied: py4j==0.10.9 in /opt/conda/lib/python3.8/site-packages (from pyspark==3.1.1) (0.10.9)\r\n"
     ]
    }
   ],
   "source": [
    "!pip3 install pyspark==3.1.1"
   ]
  },
  {
   "cell_type": "code",
   "execution_count": 2,
   "id": "differential-bahrain",
   "metadata": {
    "execution": {
     "iopub.execute_input": "2021-03-17T17:21:57.582703Z",
     "iopub.status.busy": "2021-03-17T17:21:57.582255Z",
     "iopub.status.idle": "2021-03-17T17:21:57.584036Z",
     "shell.execute_reply": "2021-03-17T17:21:57.583677Z"
    },
    "papermill": {
     "duration": 0.009853,
     "end_time": "2021-03-17T17:21:57.584134",
     "exception": false,
     "start_time": "2021-03-17T17:21:57.574281",
     "status": "completed"
    },
    "tags": []
   },
   "outputs": [],
   "source": [
    "# @param data_dir temporal data storage for local execution\n",
    "# @param data_csv csv path and file name (default: data.csv)\n",
    "# @param data_parquet path and parquet file name (default: data.parquet)\n",
    "# @param master url of master (default: local mode)"
   ]
  },
  {
   "cell_type": "code",
   "execution_count": 3,
   "id": "fallen-plastic",
   "metadata": {
    "execution": {
     "iopub.execute_input": "2021-03-17T17:21:57.597071Z",
     "iopub.status.busy": "2021-03-17T17:21:57.596651Z",
     "iopub.status.idle": "2021-03-17T17:21:57.721401Z",
     "shell.execute_reply": "2021-03-17T17:21:57.721775Z"
    },
    "papermill": {
     "duration": 0.132622,
     "end_time": "2021-03-17T17:21:57.721932",
     "exception": false,
     "start_time": "2021-03-17T17:21:57.589310",
     "status": "completed"
    },
    "tags": []
   },
   "outputs": [],
   "source": [
    "from pyspark import SparkContext, SparkConf\n",
    "from pyspark.sql import SparkSession\n",
    "import os"
   ]
  },
  {
   "cell_type": "code",
   "execution_count": 4,
   "id": "affiliated-password",
   "metadata": {
    "execution": {
     "iopub.execute_input": "2021-03-17T17:21:57.736031Z",
     "iopub.status.busy": "2021-03-17T17:21:57.735598Z",
     "iopub.status.idle": "2021-03-17T17:21:57.737091Z",
     "shell.execute_reply": "2021-03-17T17:21:57.737407Z"
    },
    "papermill": {
     "duration": 0.010157,
     "end_time": "2021-03-17T17:21:57.737545",
     "exception": false,
     "start_time": "2021-03-17T17:21:57.727388",
     "status": "completed"
    },
    "tags": []
   },
   "outputs": [],
   "source": [
    "data_csv = os.environ.get('data_csv', 'data.csv')\n",
    "data_parquet = os.environ.get('data_parquet', 'data.parquet')\n",
    "master = os.environ.get('master', \"local[*]\")\n",
    "data_dir = os.environ.get('data_dir', '../../data/')"
   ]
  },
  {
   "cell_type": "code",
   "execution_count": 5,
   "id": "norwegian-muscle",
   "metadata": {
    "execution": {
     "iopub.execute_input": "2021-03-17T17:21:57.750288Z",
     "iopub.status.busy": "2021-03-17T17:21:57.749877Z",
     "iopub.status.idle": "2021-03-17T17:21:57.751549Z",
     "shell.execute_reply": "2021-03-17T17:21:57.751857Z"
    },
    "papermill": {
     "duration": 0.009268,
     "end_time": "2021-03-17T17:21:57.751975",
     "exception": false,
     "start_time": "2021-03-17T17:21:57.742707",
     "status": "completed"
    },
    "tags": []
   },
   "outputs": [],
   "source": [
    "if os.path.exists(data_dir+data_parquet):\n",
    "    skip = True"
   ]
  },
  {
   "cell_type": "code",
   "execution_count": 6,
   "id": "retained-frederick",
   "metadata": {
    "execution": {
     "iopub.execute_input": "2021-03-17T17:21:57.779532Z",
     "iopub.status.busy": "2021-03-17T17:21:57.778677Z",
     "iopub.status.idle": "2021-03-17T17:21:57.785705Z",
     "shell.execute_reply": "2021-03-17T17:21:57.786362Z"
    },
    "papermill": {
     "duration": 0.028188,
     "end_time": "2021-03-17T17:21:57.786591",
     "exception": false,
     "start_time": "2021-03-17T17:21:57.758403",
     "status": "completed"
    },
    "tags": []
   },
   "outputs": [],
   "source": [
    "if not skip:\n",
    "    sc = SparkContext.getOrCreate(SparkConf().setMaster(master))\n",
    "    spark = SparkSession.builder.getOrCreate()"
   ]
  },
  {
   "cell_type": "code",
   "execution_count": 7,
   "id": "enclosed-guide",
   "metadata": {
    "execution": {
     "iopub.execute_input": "2021-03-17T17:21:57.801341Z",
     "iopub.status.busy": "2021-03-17T17:21:57.800894Z",
     "iopub.status.idle": "2021-03-17T17:21:57.802354Z",
     "shell.execute_reply": "2021-03-17T17:21:57.802704Z"
    },
    "papermill": {
     "duration": 0.010092,
     "end_time": "2021-03-17T17:21:57.802836",
     "exception": false,
     "start_time": "2021-03-17T17:21:57.792744",
     "status": "completed"
    },
    "tags": []
   },
   "outputs": [],
   "source": [
    "if not skip:\n",
    "    df = spark.read.option('header', 'true').csv(data_dir + data_csv)"
   ]
  },
  {
   "cell_type": "code",
   "execution_count": 8,
   "id": "tamil-dispute",
   "metadata": {
    "execution": {
     "iopub.execute_input": "2021-03-17T17:21:57.815264Z",
     "iopub.status.busy": "2021-03-17T17:21:57.814848Z",
     "iopub.status.idle": "2021-03-17T17:21:57.816678Z",
     "shell.execute_reply": "2021-03-17T17:21:57.816246Z"
    },
    "papermill": {
     "duration": 0.008981,
     "end_time": "2021-03-17T17:21:57.816796",
     "exception": false,
     "start_time": "2021-03-17T17:21:57.807815",
     "status": "completed"
    },
    "tags": []
   },
   "outputs": [],
   "source": [
    "if not skip:\n",
    "    df.write.parquet(data_dir + data_parquet)"
   ]
  }
 ],
 "metadata": {
  "kernelspec": {
   "display_name": "Python 3",
   "language": "python",
   "name": "python3"
  },
  "language_info": {
   "codemirror_mode": {
    "name": "ipython",
    "version": 3
   },
   "file_extension": ".py",
   "mimetype": "text/x-python",
   "name": "python",
   "nbconvert_exporter": "python",
   "pygments_lexer": "ipython3",
   "version": "3.8.6"
  },
  "papermill": {
   "default_parameters": {},
   "duration": 3.911738,
   "end_time": "2021-03-17T17:21:58.127228",
   "environment_variables": {},
   "exception": null,
   "input_path": "/home/jovyan/work/examples/pipelines/pairs/component-library/transform/spark-csv-to-parquet.ipynb",
   "output_path": "/home/jovyan/work/examples/pipelines/pairs/component-library/transform/spark-csv-to-parquet.ipynb",
   "parameters": {},
   "start_time": "2021-03-17T17:21:54.215490",
   "version": "2.3.3"
  }
 },
 "nbformat": 4,
 "nbformat_minor": 5
}