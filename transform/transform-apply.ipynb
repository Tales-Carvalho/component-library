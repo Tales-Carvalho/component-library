{
 "cells": [
  {
   "cell_type": "markdown",
   "id": "vanilla-korea",
   "metadata": {},
   "source": [
    "# Applies function on pandas data frame\n"
   ]
  },
  {
   "cell_type": "code",
   "execution_count": null,
   "id": "paperback-russia",
   "metadata": {},
   "outputs": [],
   "source": [
    "!pip3 install pandas==1.2.1"
   ]
  },
  {
   "cell_type": "code",
   "execution_count": null,
   "id": "going-infection",
   "metadata": {},
   "outputs": [],
   "source": [
    "import os\n",
    "import pandas as pd"
   ]
  },
  {
   "cell_type": "code",
   "execution_count": null,
   "id": "directed-layout",
   "metadata": {},
   "outputs": [],
   "source": [
    "# @param column where function needs to be applied\n",
    "# @param function to be applied on data element\n",
    "# @param file_name csv file name\n",
    "# @returns updated csv"
   ]
  },
  {
   "cell_type": "code",
   "execution_count": null,
   "id": "downtown-moral",
   "metadata": {},
   "outputs": [],
   "source": [
    "column = os.environ.get('column')\n",
    "function = os.environ.get('function')\n",
    "file_name = os.environ.get('file_name', 'metadata.csv')"
   ]
  },
  {
   "cell_type": "code",
   "execution_count": null,
   "id": "retired-enough",
   "metadata": {},
   "outputs": [],
   "source": [
    "metadata = pd.read_csv(file_name)"
   ]
  },
  {
   "cell_type": "code",
   "execution_count": null,
   "id": "supreme-purchase",
   "metadata": {},
   "outputs": [],
   "source": [
    "exec('l = lambda x: x.'+function)"
   ]
  },
  {
   "cell_type": "code",
   "execution_count": null,
   "id": "involved-tours",
   "metadata": {},
   "outputs": [],
   "source": [
    "metadata[column] = metadata[column].apply(l)"
   ]
  },
  {
   "cell_type": "code",
   "execution_count": null,
   "id": "visible-ballet",
   "metadata": {},
   "outputs": [],
   "source": [
    "metadata.to_csv(file_name, index=False)"
   ]
  }
 ],
 "metadata": {
  "kernelspec": {
   "display_name": "Python 3",
   "language": "python",
   "name": "python3"
  },
  "language_info": {
   "codemirror_mode": {
    "name": "ipython",
    "version": 3
   },
   "file_extension": ".py",
   "mimetype": "text/x-python",
   "name": "python",
   "nbconvert_exporter": "python",
   "pygments_lexer": "ipython3",
   "version": "3.8.6"
  }
 },
 "nbformat": 4,
 "nbformat_minor": 5
}
